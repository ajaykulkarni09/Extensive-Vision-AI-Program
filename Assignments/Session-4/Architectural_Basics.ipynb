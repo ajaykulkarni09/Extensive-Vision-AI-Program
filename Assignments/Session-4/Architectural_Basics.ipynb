{
  "nbformat": 4,
  "nbformat_minor": 0,
  "metadata": {
    "colab": {
      "name": "Copy of Copy of Copy of Architectural_Basics.ipynb",
      "provenance": [],
      "collapsed_sections": []
    },
    "kernelspec": {
      "name": "python3",
      "display_name": "Python 3"
    },
    "language_info": {
      "name": "python"
    },
    "accelerator": "GPU",
    "widgets": {
      "application/vnd.jupyter.widget-state+json": {
        "35e74eb6079f449e8e540bcd9650f4b1": {
          "model_module": "@jupyter-widgets/controls",
          "model_name": "HBoxModel",
          "model_module_version": "1.5.0",
          "state": {
            "_view_name": "HBoxView",
            "_dom_classes": [],
            "_model_name": "HBoxModel",
            "_view_module": "@jupyter-widgets/controls",
            "_model_module_version": "1.5.0",
            "_view_count": null,
            "_view_module_version": "1.5.0",
            "box_style": "",
            "layout": "IPY_MODEL_edc314d5bca24ef1bb2580ea2814d249",
            "_model_module": "@jupyter-widgets/controls",
            "children": [
              "IPY_MODEL_0e4c8bbc60db4ecd9ed571e3edde401c",
              "IPY_MODEL_d4d1fbdd6d86443a8e4cddfb47660a2e",
              "IPY_MODEL_e37fe3e841c74355958296c26415fdf1"
            ]
          }
        },
        "edc314d5bca24ef1bb2580ea2814d249": {
          "model_module": "@jupyter-widgets/base",
          "model_name": "LayoutModel",
          "model_module_version": "1.2.0",
          "state": {
            "_view_name": "LayoutView",
            "grid_template_rows": null,
            "right": null,
            "justify_content": null,
            "_view_module": "@jupyter-widgets/base",
            "overflow": null,
            "_model_module_version": "1.2.0",
            "_view_count": null,
            "flex_flow": null,
            "width": null,
            "min_width": null,
            "border": null,
            "align_items": null,
            "bottom": null,
            "_model_module": "@jupyter-widgets/base",
            "top": null,
            "grid_column": null,
            "overflow_y": null,
            "overflow_x": null,
            "grid_auto_flow": null,
            "grid_area": null,
            "grid_template_columns": null,
            "flex": null,
            "_model_name": "LayoutModel",
            "justify_items": null,
            "grid_row": null,
            "max_height": null,
            "align_content": null,
            "visibility": null,
            "align_self": null,
            "height": null,
            "min_height": null,
            "padding": null,
            "grid_auto_rows": null,
            "grid_gap": null,
            "max_width": null,
            "order": null,
            "_view_module_version": "1.2.0",
            "grid_template_areas": null,
            "object_position": null,
            "object_fit": null,
            "grid_auto_columns": null,
            "margin": null,
            "display": null,
            "left": null
          }
        },
        "0e4c8bbc60db4ecd9ed571e3edde401c": {
          "model_module": "@jupyter-widgets/controls",
          "model_name": "HTMLModel",
          "model_module_version": "1.5.0",
          "state": {
            "_view_name": "HTMLView",
            "style": "IPY_MODEL_854c93da383449128551751f336d5209",
            "_dom_classes": [],
            "description": "",
            "_model_name": "HTMLModel",
            "placeholder": "​",
            "_view_module": "@jupyter-widgets/controls",
            "_model_module_version": "1.5.0",
            "value": "",
            "_view_count": null,
            "_view_module_version": "1.5.0",
            "description_tooltip": null,
            "_model_module": "@jupyter-widgets/controls",
            "layout": "IPY_MODEL_248659960a0b4f39846103c9159db0b3"
          }
        },
        "d4d1fbdd6d86443a8e4cddfb47660a2e": {
          "model_module": "@jupyter-widgets/controls",
          "model_name": "FloatProgressModel",
          "model_module_version": "1.5.0",
          "state": {
            "_view_name": "ProgressView",
            "style": "IPY_MODEL_35b49d98958247f5b31a17d87f0ee8a9",
            "_dom_classes": [],
            "description": "",
            "_model_name": "FloatProgressModel",
            "bar_style": "success",
            "max": 9912422,
            "_view_module": "@jupyter-widgets/controls",
            "_model_module_version": "1.5.0",
            "value": 9912422,
            "_view_count": null,
            "_view_module_version": "1.5.0",
            "orientation": "horizontal",
            "min": 0,
            "description_tooltip": null,
            "_model_module": "@jupyter-widgets/controls",
            "layout": "IPY_MODEL_bf814d7ebe5e4c05a95d79b01f39148e"
          }
        },
        "e37fe3e841c74355958296c26415fdf1": {
          "model_module": "@jupyter-widgets/controls",
          "model_name": "HTMLModel",
          "model_module_version": "1.5.0",
          "state": {
            "_view_name": "HTMLView",
            "style": "IPY_MODEL_ffb28f1e731a4e168b7c3b7f453cdc17",
            "_dom_classes": [],
            "description": "",
            "_model_name": "HTMLModel",
            "placeholder": "​",
            "_view_module": "@jupyter-widgets/controls",
            "_model_module_version": "1.5.0",
            "value": " 9913344/? [00:00&lt;00:00, 51730087.49it/s]",
            "_view_count": null,
            "_view_module_version": "1.5.0",
            "description_tooltip": null,
            "_model_module": "@jupyter-widgets/controls",
            "layout": "IPY_MODEL_7e097a4e400a44eb92150c8d4dc6e54a"
          }
        },
        "854c93da383449128551751f336d5209": {
          "model_module": "@jupyter-widgets/controls",
          "model_name": "DescriptionStyleModel",
          "model_module_version": "1.5.0",
          "state": {
            "_view_name": "StyleView",
            "_model_name": "DescriptionStyleModel",
            "description_width": "",
            "_view_module": "@jupyter-widgets/base",
            "_model_module_version": "1.5.0",
            "_view_count": null,
            "_view_module_version": "1.2.0",
            "_model_module": "@jupyter-widgets/controls"
          }
        },
        "248659960a0b4f39846103c9159db0b3": {
          "model_module": "@jupyter-widgets/base",
          "model_name": "LayoutModel",
          "model_module_version": "1.2.0",
          "state": {
            "_view_name": "LayoutView",
            "grid_template_rows": null,
            "right": null,
            "justify_content": null,
            "_view_module": "@jupyter-widgets/base",
            "overflow": null,
            "_model_module_version": "1.2.0",
            "_view_count": null,
            "flex_flow": null,
            "width": null,
            "min_width": null,
            "border": null,
            "align_items": null,
            "bottom": null,
            "_model_module": "@jupyter-widgets/base",
            "top": null,
            "grid_column": null,
            "overflow_y": null,
            "overflow_x": null,
            "grid_auto_flow": null,
            "grid_area": null,
            "grid_template_columns": null,
            "flex": null,
            "_model_name": "LayoutModel",
            "justify_items": null,
            "grid_row": null,
            "max_height": null,
            "align_content": null,
            "visibility": null,
            "align_self": null,
            "height": null,
            "min_height": null,
            "padding": null,
            "grid_auto_rows": null,
            "grid_gap": null,
            "max_width": null,
            "order": null,
            "_view_module_version": "1.2.0",
            "grid_template_areas": null,
            "object_position": null,
            "object_fit": null,
            "grid_auto_columns": null,
            "margin": null,
            "display": null,
            "left": null
          }
        },
        "35b49d98958247f5b31a17d87f0ee8a9": {
          "model_module": "@jupyter-widgets/controls",
          "model_name": "ProgressStyleModel",
          "model_module_version": "1.5.0",
          "state": {
            "_view_name": "StyleView",
            "_model_name": "ProgressStyleModel",
            "description_width": "",
            "_view_module": "@jupyter-widgets/base",
            "_model_module_version": "1.5.0",
            "_view_count": null,
            "_view_module_version": "1.2.0",
            "bar_color": null,
            "_model_module": "@jupyter-widgets/controls"
          }
        },
        "bf814d7ebe5e4c05a95d79b01f39148e": {
          "model_module": "@jupyter-widgets/base",
          "model_name": "LayoutModel",
          "model_module_version": "1.2.0",
          "state": {
            "_view_name": "LayoutView",
            "grid_template_rows": null,
            "right": null,
            "justify_content": null,
            "_view_module": "@jupyter-widgets/base",
            "overflow": null,
            "_model_module_version": "1.2.0",
            "_view_count": null,
            "flex_flow": null,
            "width": null,
            "min_width": null,
            "border": null,
            "align_items": null,
            "bottom": null,
            "_model_module": "@jupyter-widgets/base",
            "top": null,
            "grid_column": null,
            "overflow_y": null,
            "overflow_x": null,
            "grid_auto_flow": null,
            "grid_area": null,
            "grid_template_columns": null,
            "flex": null,
            "_model_name": "LayoutModel",
            "justify_items": null,
            "grid_row": null,
            "max_height": null,
            "align_content": null,
            "visibility": null,
            "align_self": null,
            "height": null,
            "min_height": null,
            "padding": null,
            "grid_auto_rows": null,
            "grid_gap": null,
            "max_width": null,
            "order": null,
            "_view_module_version": "1.2.0",
            "grid_template_areas": null,
            "object_position": null,
            "object_fit": null,
            "grid_auto_columns": null,
            "margin": null,
            "display": null,
            "left": null
          }
        },
        "ffb28f1e731a4e168b7c3b7f453cdc17": {
          "model_module": "@jupyter-widgets/controls",
          "model_name": "DescriptionStyleModel",
          "model_module_version": "1.5.0",
          "state": {
            "_view_name": "StyleView",
            "_model_name": "DescriptionStyleModel",
            "description_width": "",
            "_view_module": "@jupyter-widgets/base",
            "_model_module_version": "1.5.0",
            "_view_count": null,
            "_view_module_version": "1.2.0",
            "_model_module": "@jupyter-widgets/controls"
          }
        },
        "7e097a4e400a44eb92150c8d4dc6e54a": {
          "model_module": "@jupyter-widgets/base",
          "model_name": "LayoutModel",
          "model_module_version": "1.2.0",
          "state": {
            "_view_name": "LayoutView",
            "grid_template_rows": null,
            "right": null,
            "justify_content": null,
            "_view_module": "@jupyter-widgets/base",
            "overflow": null,
            "_model_module_version": "1.2.0",
            "_view_count": null,
            "flex_flow": null,
            "width": null,
            "min_width": null,
            "border": null,
            "align_items": null,
            "bottom": null,
            "_model_module": "@jupyter-widgets/base",
            "top": null,
            "grid_column": null,
            "overflow_y": null,
            "overflow_x": null,
            "grid_auto_flow": null,
            "grid_area": null,
            "grid_template_columns": null,
            "flex": null,
            "_model_name": "LayoutModel",
            "justify_items": null,
            "grid_row": null,
            "max_height": null,
            "align_content": null,
            "visibility": null,
            "align_self": null,
            "height": null,
            "min_height": null,
            "padding": null,
            "grid_auto_rows": null,
            "grid_gap": null,
            "max_width": null,
            "order": null,
            "_view_module_version": "1.2.0",
            "grid_template_areas": null,
            "object_position": null,
            "object_fit": null,
            "grid_auto_columns": null,
            "margin": null,
            "display": null,
            "left": null
          }
        },
        "b9b6190e9387484d9cdafaa244869673": {
          "model_module": "@jupyter-widgets/controls",
          "model_name": "HBoxModel",
          "model_module_version": "1.5.0",
          "state": {
            "_view_name": "HBoxView",
            "_dom_classes": [],
            "_model_name": "HBoxModel",
            "_view_module": "@jupyter-widgets/controls",
            "_model_module_version": "1.5.0",
            "_view_count": null,
            "_view_module_version": "1.5.0",
            "box_style": "",
            "layout": "IPY_MODEL_a1ad79859a2f42c98a57ef94b60be000",
            "_model_module": "@jupyter-widgets/controls",
            "children": [
              "IPY_MODEL_c35f68fb0bd243eaae5246c67b3ec360",
              "IPY_MODEL_b4a1416911ab44b7aad5b316ca5cc458",
              "IPY_MODEL_6c744a756d87487ea97986cfe0b2f8b4"
            ]
          }
        },
        "a1ad79859a2f42c98a57ef94b60be000": {
          "model_module": "@jupyter-widgets/base",
          "model_name": "LayoutModel",
          "model_module_version": "1.2.0",
          "state": {
            "_view_name": "LayoutView",
            "grid_template_rows": null,
            "right": null,
            "justify_content": null,
            "_view_module": "@jupyter-widgets/base",
            "overflow": null,
            "_model_module_version": "1.2.0",
            "_view_count": null,
            "flex_flow": null,
            "width": null,
            "min_width": null,
            "border": null,
            "align_items": null,
            "bottom": null,
            "_model_module": "@jupyter-widgets/base",
            "top": null,
            "grid_column": null,
            "overflow_y": null,
            "overflow_x": null,
            "grid_auto_flow": null,
            "grid_area": null,
            "grid_template_columns": null,
            "flex": null,
            "_model_name": "LayoutModel",
            "justify_items": null,
            "grid_row": null,
            "max_height": null,
            "align_content": null,
            "visibility": null,
            "align_self": null,
            "height": null,
            "min_height": null,
            "padding": null,
            "grid_auto_rows": null,
            "grid_gap": null,
            "max_width": null,
            "order": null,
            "_view_module_version": "1.2.0",
            "grid_template_areas": null,
            "object_position": null,
            "object_fit": null,
            "grid_auto_columns": null,
            "margin": null,
            "display": null,
            "left": null
          }
        },
        "c35f68fb0bd243eaae5246c67b3ec360": {
          "model_module": "@jupyter-widgets/controls",
          "model_name": "HTMLModel",
          "model_module_version": "1.5.0",
          "state": {
            "_view_name": "HTMLView",
            "style": "IPY_MODEL_fd7125b963f44f04bc4e2ae4b3292d8f",
            "_dom_classes": [],
            "description": "",
            "_model_name": "HTMLModel",
            "placeholder": "​",
            "_view_module": "@jupyter-widgets/controls",
            "_model_module_version": "1.5.0",
            "value": "",
            "_view_count": null,
            "_view_module_version": "1.5.0",
            "description_tooltip": null,
            "_model_module": "@jupyter-widgets/controls",
            "layout": "IPY_MODEL_c0b35728a47e4174854fe84955c92d0b"
          }
        },
        "b4a1416911ab44b7aad5b316ca5cc458": {
          "model_module": "@jupyter-widgets/controls",
          "model_name": "FloatProgressModel",
          "model_module_version": "1.5.0",
          "state": {
            "_view_name": "ProgressView",
            "style": "IPY_MODEL_33e2580dcb744cf0b7317825e4acfb21",
            "_dom_classes": [],
            "description": "",
            "_model_name": "FloatProgressModel",
            "bar_style": "success",
            "max": 28881,
            "_view_module": "@jupyter-widgets/controls",
            "_model_module_version": "1.5.0",
            "value": 28881,
            "_view_count": null,
            "_view_module_version": "1.5.0",
            "orientation": "horizontal",
            "min": 0,
            "description_tooltip": null,
            "_model_module": "@jupyter-widgets/controls",
            "layout": "IPY_MODEL_6bf68750cbb54629927f2245bf7cfe5e"
          }
        },
        "6c744a756d87487ea97986cfe0b2f8b4": {
          "model_module": "@jupyter-widgets/controls",
          "model_name": "HTMLModel",
          "model_module_version": "1.5.0",
          "state": {
            "_view_name": "HTMLView",
            "style": "IPY_MODEL_a187beb305904ca5ab061e9ac7a7b14e",
            "_dom_classes": [],
            "description": "",
            "_model_name": "HTMLModel",
            "placeholder": "​",
            "_view_module": "@jupyter-widgets/controls",
            "_model_module_version": "1.5.0",
            "value": " 29696/? [00:00&lt;00:00, 656200.39it/s]",
            "_view_count": null,
            "_view_module_version": "1.5.0",
            "description_tooltip": null,
            "_model_module": "@jupyter-widgets/controls",
            "layout": "IPY_MODEL_b5b6eb4e7b5f4bda9b59d3353bf539d1"
          }
        },
        "fd7125b963f44f04bc4e2ae4b3292d8f": {
          "model_module": "@jupyter-widgets/controls",
          "model_name": "DescriptionStyleModel",
          "model_module_version": "1.5.0",
          "state": {
            "_view_name": "StyleView",
            "_model_name": "DescriptionStyleModel",
            "description_width": "",
            "_view_module": "@jupyter-widgets/base",
            "_model_module_version": "1.5.0",
            "_view_count": null,
            "_view_module_version": "1.2.0",
            "_model_module": "@jupyter-widgets/controls"
          }
        },
        "c0b35728a47e4174854fe84955c92d0b": {
          "model_module": "@jupyter-widgets/base",
          "model_name": "LayoutModel",
          "model_module_version": "1.2.0",
          "state": {
            "_view_name": "LayoutView",
            "grid_template_rows": null,
            "right": null,
            "justify_content": null,
            "_view_module": "@jupyter-widgets/base",
            "overflow": null,
            "_model_module_version": "1.2.0",
            "_view_count": null,
            "flex_flow": null,
            "width": null,
            "min_width": null,
            "border": null,
            "align_items": null,
            "bottom": null,
            "_model_module": "@jupyter-widgets/base",
            "top": null,
            "grid_column": null,
            "overflow_y": null,
            "overflow_x": null,
            "grid_auto_flow": null,
            "grid_area": null,
            "grid_template_columns": null,
            "flex": null,
            "_model_name": "LayoutModel",
            "justify_items": null,
            "grid_row": null,
            "max_height": null,
            "align_content": null,
            "visibility": null,
            "align_self": null,
            "height": null,
            "min_height": null,
            "padding": null,
            "grid_auto_rows": null,
            "grid_gap": null,
            "max_width": null,
            "order": null,
            "_view_module_version": "1.2.0",
            "grid_template_areas": null,
            "object_position": null,
            "object_fit": null,
            "grid_auto_columns": null,
            "margin": null,
            "display": null,
            "left": null
          }
        },
        "33e2580dcb744cf0b7317825e4acfb21": {
          "model_module": "@jupyter-widgets/controls",
          "model_name": "ProgressStyleModel",
          "model_module_version": "1.5.0",
          "state": {
            "_view_name": "StyleView",
            "_model_name": "ProgressStyleModel",
            "description_width": "",
            "_view_module": "@jupyter-widgets/base",
            "_model_module_version": "1.5.0",
            "_view_count": null,
            "_view_module_version": "1.2.0",
            "bar_color": null,
            "_model_module": "@jupyter-widgets/controls"
          }
        },
        "6bf68750cbb54629927f2245bf7cfe5e": {
          "model_module": "@jupyter-widgets/base",
          "model_name": "LayoutModel",
          "model_module_version": "1.2.0",
          "state": {
            "_view_name": "LayoutView",
            "grid_template_rows": null,
            "right": null,
            "justify_content": null,
            "_view_module": "@jupyter-widgets/base",
            "overflow": null,
            "_model_module_version": "1.2.0",
            "_view_count": null,
            "flex_flow": null,
            "width": null,
            "min_width": null,
            "border": null,
            "align_items": null,
            "bottom": null,
            "_model_module": "@jupyter-widgets/base",
            "top": null,
            "grid_column": null,
            "overflow_y": null,
            "overflow_x": null,
            "grid_auto_flow": null,
            "grid_area": null,
            "grid_template_columns": null,
            "flex": null,
            "_model_name": "LayoutModel",
            "justify_items": null,
            "grid_row": null,
            "max_height": null,
            "align_content": null,
            "visibility": null,
            "align_self": null,
            "height": null,
            "min_height": null,
            "padding": null,
            "grid_auto_rows": null,
            "grid_gap": null,
            "max_width": null,
            "order": null,
            "_view_module_version": "1.2.0",
            "grid_template_areas": null,
            "object_position": null,
            "object_fit": null,
            "grid_auto_columns": null,
            "margin": null,
            "display": null,
            "left": null
          }
        },
        "a187beb305904ca5ab061e9ac7a7b14e": {
          "model_module": "@jupyter-widgets/controls",
          "model_name": "DescriptionStyleModel",
          "model_module_version": "1.5.0",
          "state": {
            "_view_name": "StyleView",
            "_model_name": "DescriptionStyleModel",
            "description_width": "",
            "_view_module": "@jupyter-widgets/base",
            "_model_module_version": "1.5.0",
            "_view_count": null,
            "_view_module_version": "1.2.0",
            "_model_module": "@jupyter-widgets/controls"
          }
        },
        "b5b6eb4e7b5f4bda9b59d3353bf539d1": {
          "model_module": "@jupyter-widgets/base",
          "model_name": "LayoutModel",
          "model_module_version": "1.2.0",
          "state": {
            "_view_name": "LayoutView",
            "grid_template_rows": null,
            "right": null,
            "justify_content": null,
            "_view_module": "@jupyter-widgets/base",
            "overflow": null,
            "_model_module_version": "1.2.0",
            "_view_count": null,
            "flex_flow": null,
            "width": null,
            "min_width": null,
            "border": null,
            "align_items": null,
            "bottom": null,
            "_model_module": "@jupyter-widgets/base",
            "top": null,
            "grid_column": null,
            "overflow_y": null,
            "overflow_x": null,
            "grid_auto_flow": null,
            "grid_area": null,
            "grid_template_columns": null,
            "flex": null,
            "_model_name": "LayoutModel",
            "justify_items": null,
            "grid_row": null,
            "max_height": null,
            "align_content": null,
            "visibility": null,
            "align_self": null,
            "height": null,
            "min_height": null,
            "padding": null,
            "grid_auto_rows": null,
            "grid_gap": null,
            "max_width": null,
            "order": null,
            "_view_module_version": "1.2.0",
            "grid_template_areas": null,
            "object_position": null,
            "object_fit": null,
            "grid_auto_columns": null,
            "margin": null,
            "display": null,
            "left": null
          }
        },
        "b8fc2d8e73bd4803b99e44883fc05d08": {
          "model_module": "@jupyter-widgets/controls",
          "model_name": "HBoxModel",
          "model_module_version": "1.5.0",
          "state": {
            "_view_name": "HBoxView",
            "_dom_classes": [],
            "_model_name": "HBoxModel",
            "_view_module": "@jupyter-widgets/controls",
            "_model_module_version": "1.5.0",
            "_view_count": null,
            "_view_module_version": "1.5.0",
            "box_style": "",
            "layout": "IPY_MODEL_0e2db481d87245e3b7227d6d1dbad14e",
            "_model_module": "@jupyter-widgets/controls",
            "children": [
              "IPY_MODEL_1db657199960479a9e023e73c1ec4e90",
              "IPY_MODEL_723d657817db482c8263a414cc62721b",
              "IPY_MODEL_c8ba73540fba407fa670589ce70dbebf"
            ]
          }
        },
        "0e2db481d87245e3b7227d6d1dbad14e": {
          "model_module": "@jupyter-widgets/base",
          "model_name": "LayoutModel",
          "model_module_version": "1.2.0",
          "state": {
            "_view_name": "LayoutView",
            "grid_template_rows": null,
            "right": null,
            "justify_content": null,
            "_view_module": "@jupyter-widgets/base",
            "overflow": null,
            "_model_module_version": "1.2.0",
            "_view_count": null,
            "flex_flow": null,
            "width": null,
            "min_width": null,
            "border": null,
            "align_items": null,
            "bottom": null,
            "_model_module": "@jupyter-widgets/base",
            "top": null,
            "grid_column": null,
            "overflow_y": null,
            "overflow_x": null,
            "grid_auto_flow": null,
            "grid_area": null,
            "grid_template_columns": null,
            "flex": null,
            "_model_name": "LayoutModel",
            "justify_items": null,
            "grid_row": null,
            "max_height": null,
            "align_content": null,
            "visibility": null,
            "align_self": null,
            "height": null,
            "min_height": null,
            "padding": null,
            "grid_auto_rows": null,
            "grid_gap": null,
            "max_width": null,
            "order": null,
            "_view_module_version": "1.2.0",
            "grid_template_areas": null,
            "object_position": null,
            "object_fit": null,
            "grid_auto_columns": null,
            "margin": null,
            "display": null,
            "left": null
          }
        },
        "1db657199960479a9e023e73c1ec4e90": {
          "model_module": "@jupyter-widgets/controls",
          "model_name": "HTMLModel",
          "model_module_version": "1.5.0",
          "state": {
            "_view_name": "HTMLView",
            "style": "IPY_MODEL_60c03860d2074cc699ed17d9d2a3b45f",
            "_dom_classes": [],
            "description": "",
            "_model_name": "HTMLModel",
            "placeholder": "​",
            "_view_module": "@jupyter-widgets/controls",
            "_model_module_version": "1.5.0",
            "value": "",
            "_view_count": null,
            "_view_module_version": "1.5.0",
            "description_tooltip": null,
            "_model_module": "@jupyter-widgets/controls",
            "layout": "IPY_MODEL_b1fb8edb62a34aea897589f4b2afe5b7"
          }
        },
        "723d657817db482c8263a414cc62721b": {
          "model_module": "@jupyter-widgets/controls",
          "model_name": "FloatProgressModel",
          "model_module_version": "1.5.0",
          "state": {
            "_view_name": "ProgressView",
            "style": "IPY_MODEL_b2c1195a804e44658f52f1e31082e35b",
            "_dom_classes": [],
            "description": "",
            "_model_name": "FloatProgressModel",
            "bar_style": "success",
            "max": 1648877,
            "_view_module": "@jupyter-widgets/controls",
            "_model_module_version": "1.5.0",
            "value": 1648877,
            "_view_count": null,
            "_view_module_version": "1.5.0",
            "orientation": "horizontal",
            "min": 0,
            "description_tooltip": null,
            "_model_module": "@jupyter-widgets/controls",
            "layout": "IPY_MODEL_45a55b06e6b04f8cad12b71e1d315996"
          }
        },
        "c8ba73540fba407fa670589ce70dbebf": {
          "model_module": "@jupyter-widgets/controls",
          "model_name": "HTMLModel",
          "model_module_version": "1.5.0",
          "state": {
            "_view_name": "HTMLView",
            "style": "IPY_MODEL_67dfe2fd278f4c87a63aed77dc64195f",
            "_dom_classes": [],
            "description": "",
            "_model_name": "HTMLModel",
            "placeholder": "​",
            "_view_module": "@jupyter-widgets/controls",
            "_model_module_version": "1.5.0",
            "value": " 1649664/? [00:00&lt;00:00, 15380054.64it/s]",
            "_view_count": null,
            "_view_module_version": "1.5.0",
            "description_tooltip": null,
            "_model_module": "@jupyter-widgets/controls",
            "layout": "IPY_MODEL_6f1c30d9b4ce4d42bc56ade4deea634c"
          }
        },
        "60c03860d2074cc699ed17d9d2a3b45f": {
          "model_module": "@jupyter-widgets/controls",
          "model_name": "DescriptionStyleModel",
          "model_module_version": "1.5.0",
          "state": {
            "_view_name": "StyleView",
            "_model_name": "DescriptionStyleModel",
            "description_width": "",
            "_view_module": "@jupyter-widgets/base",
            "_model_module_version": "1.5.0",
            "_view_count": null,
            "_view_module_version": "1.2.0",
            "_model_module": "@jupyter-widgets/controls"
          }
        },
        "b1fb8edb62a34aea897589f4b2afe5b7": {
          "model_module": "@jupyter-widgets/base",
          "model_name": "LayoutModel",
          "model_module_version": "1.2.0",
          "state": {
            "_view_name": "LayoutView",
            "grid_template_rows": null,
            "right": null,
            "justify_content": null,
            "_view_module": "@jupyter-widgets/base",
            "overflow": null,
            "_model_module_version": "1.2.0",
            "_view_count": null,
            "flex_flow": null,
            "width": null,
            "min_width": null,
            "border": null,
            "align_items": null,
            "bottom": null,
            "_model_module": "@jupyter-widgets/base",
            "top": null,
            "grid_column": null,
            "overflow_y": null,
            "overflow_x": null,
            "grid_auto_flow": null,
            "grid_area": null,
            "grid_template_columns": null,
            "flex": null,
            "_model_name": "LayoutModel",
            "justify_items": null,
            "grid_row": null,
            "max_height": null,
            "align_content": null,
            "visibility": null,
            "align_self": null,
            "height": null,
            "min_height": null,
            "padding": null,
            "grid_auto_rows": null,
            "grid_gap": null,
            "max_width": null,
            "order": null,
            "_view_module_version": "1.2.0",
            "grid_template_areas": null,
            "object_position": null,
            "object_fit": null,
            "grid_auto_columns": null,
            "margin": null,
            "display": null,
            "left": null
          }
        },
        "b2c1195a804e44658f52f1e31082e35b": {
          "model_module": "@jupyter-widgets/controls",
          "model_name": "ProgressStyleModel",
          "model_module_version": "1.5.0",
          "state": {
            "_view_name": "StyleView",
            "_model_name": "ProgressStyleModel",
            "description_width": "",
            "_view_module": "@jupyter-widgets/base",
            "_model_module_version": "1.5.0",
            "_view_count": null,
            "_view_module_version": "1.2.0",
            "bar_color": null,
            "_model_module": "@jupyter-widgets/controls"
          }
        },
        "45a55b06e6b04f8cad12b71e1d315996": {
          "model_module": "@jupyter-widgets/base",
          "model_name": "LayoutModel",
          "model_module_version": "1.2.0",
          "state": {
            "_view_name": "LayoutView",
            "grid_template_rows": null,
            "right": null,
            "justify_content": null,
            "_view_module": "@jupyter-widgets/base",
            "overflow": null,
            "_model_module_version": "1.2.0",
            "_view_count": null,
            "flex_flow": null,
            "width": null,
            "min_width": null,
            "border": null,
            "align_items": null,
            "bottom": null,
            "_model_module": "@jupyter-widgets/base",
            "top": null,
            "grid_column": null,
            "overflow_y": null,
            "overflow_x": null,
            "grid_auto_flow": null,
            "grid_area": null,
            "grid_template_columns": null,
            "flex": null,
            "_model_name": "LayoutModel",
            "justify_items": null,
            "grid_row": null,
            "max_height": null,
            "align_content": null,
            "visibility": null,
            "align_self": null,
            "height": null,
            "min_height": null,
            "padding": null,
            "grid_auto_rows": null,
            "grid_gap": null,
            "max_width": null,
            "order": null,
            "_view_module_version": "1.2.0",
            "grid_template_areas": null,
            "object_position": null,
            "object_fit": null,
            "grid_auto_columns": null,
            "margin": null,
            "display": null,
            "left": null
          }
        },
        "67dfe2fd278f4c87a63aed77dc64195f": {
          "model_module": "@jupyter-widgets/controls",
          "model_name": "DescriptionStyleModel",
          "model_module_version": "1.5.0",
          "state": {
            "_view_name": "StyleView",
            "_model_name": "DescriptionStyleModel",
            "description_width": "",
            "_view_module": "@jupyter-widgets/base",
            "_model_module_version": "1.5.0",
            "_view_count": null,
            "_view_module_version": "1.2.0",
            "_model_module": "@jupyter-widgets/controls"
          }
        },
        "6f1c30d9b4ce4d42bc56ade4deea634c": {
          "model_module": "@jupyter-widgets/base",
          "model_name": "LayoutModel",
          "model_module_version": "1.2.0",
          "state": {
            "_view_name": "LayoutView",
            "grid_template_rows": null,
            "right": null,
            "justify_content": null,
            "_view_module": "@jupyter-widgets/base",
            "overflow": null,
            "_model_module_version": "1.2.0",
            "_view_count": null,
            "flex_flow": null,
            "width": null,
            "min_width": null,
            "border": null,
            "align_items": null,
            "bottom": null,
            "_model_module": "@jupyter-widgets/base",
            "top": null,
            "grid_column": null,
            "overflow_y": null,
            "overflow_x": null,
            "grid_auto_flow": null,
            "grid_area": null,
            "grid_template_columns": null,
            "flex": null,
            "_model_name": "LayoutModel",
            "justify_items": null,
            "grid_row": null,
            "max_height": null,
            "align_content": null,
            "visibility": null,
            "align_self": null,
            "height": null,
            "min_height": null,
            "padding": null,
            "grid_auto_rows": null,
            "grid_gap": null,
            "max_width": null,
            "order": null,
            "_view_module_version": "1.2.0",
            "grid_template_areas": null,
            "object_position": null,
            "object_fit": null,
            "grid_auto_columns": null,
            "margin": null,
            "display": null,
            "left": null
          }
        },
        "aa72cdfe77cc4e91b423fce3c83d057e": {
          "model_module": "@jupyter-widgets/controls",
          "model_name": "HBoxModel",
          "model_module_version": "1.5.0",
          "state": {
            "_view_name": "HBoxView",
            "_dom_classes": [],
            "_model_name": "HBoxModel",
            "_view_module": "@jupyter-widgets/controls",
            "_model_module_version": "1.5.0",
            "_view_count": null,
            "_view_module_version": "1.5.0",
            "box_style": "",
            "layout": "IPY_MODEL_24bce34ca1e24aceab14345d40b4a040",
            "_model_module": "@jupyter-widgets/controls",
            "children": [
              "IPY_MODEL_8e20f499fbeb4c3da36ca8168efd6fab",
              "IPY_MODEL_779a03d5dbe540c4a3d153d8369df619",
              "IPY_MODEL_ed08568758ff47e28455fc9f82d563e6"
            ]
          }
        },
        "24bce34ca1e24aceab14345d40b4a040": {
          "model_module": "@jupyter-widgets/base",
          "model_name": "LayoutModel",
          "model_module_version": "1.2.0",
          "state": {
            "_view_name": "LayoutView",
            "grid_template_rows": null,
            "right": null,
            "justify_content": null,
            "_view_module": "@jupyter-widgets/base",
            "overflow": null,
            "_model_module_version": "1.2.0",
            "_view_count": null,
            "flex_flow": null,
            "width": null,
            "min_width": null,
            "border": null,
            "align_items": null,
            "bottom": null,
            "_model_module": "@jupyter-widgets/base",
            "top": null,
            "grid_column": null,
            "overflow_y": null,
            "overflow_x": null,
            "grid_auto_flow": null,
            "grid_area": null,
            "grid_template_columns": null,
            "flex": null,
            "_model_name": "LayoutModel",
            "justify_items": null,
            "grid_row": null,
            "max_height": null,
            "align_content": null,
            "visibility": null,
            "align_self": null,
            "height": null,
            "min_height": null,
            "padding": null,
            "grid_auto_rows": null,
            "grid_gap": null,
            "max_width": null,
            "order": null,
            "_view_module_version": "1.2.0",
            "grid_template_areas": null,
            "object_position": null,
            "object_fit": null,
            "grid_auto_columns": null,
            "margin": null,
            "display": null,
            "left": null
          }
        },
        "8e20f499fbeb4c3da36ca8168efd6fab": {
          "model_module": "@jupyter-widgets/controls",
          "model_name": "HTMLModel",
          "model_module_version": "1.5.0",
          "state": {
            "_view_name": "HTMLView",
            "style": "IPY_MODEL_3a45eb4c66fe4a3d965cf47e0aed784a",
            "_dom_classes": [],
            "description": "",
            "_model_name": "HTMLModel",
            "placeholder": "​",
            "_view_module": "@jupyter-widgets/controls",
            "_model_module_version": "1.5.0",
            "value": "",
            "_view_count": null,
            "_view_module_version": "1.5.0",
            "description_tooltip": null,
            "_model_module": "@jupyter-widgets/controls",
            "layout": "IPY_MODEL_d503d767f1834042910f779e5c049871"
          }
        },
        "779a03d5dbe540c4a3d153d8369df619": {
          "model_module": "@jupyter-widgets/controls",
          "model_name": "FloatProgressModel",
          "model_module_version": "1.5.0",
          "state": {
            "_view_name": "ProgressView",
            "style": "IPY_MODEL_c8bfdc16cd094f16b3f5364fc536b933",
            "_dom_classes": [],
            "description": "",
            "_model_name": "FloatProgressModel",
            "bar_style": "success",
            "max": 4542,
            "_view_module": "@jupyter-widgets/controls",
            "_model_module_version": "1.5.0",
            "value": 4542,
            "_view_count": null,
            "_view_module_version": "1.5.0",
            "orientation": "horizontal",
            "min": 0,
            "description_tooltip": null,
            "_model_module": "@jupyter-widgets/controls",
            "layout": "IPY_MODEL_6ee82b60002e45d4a38f477b2a9e175d"
          }
        },
        "ed08568758ff47e28455fc9f82d563e6": {
          "model_module": "@jupyter-widgets/controls",
          "model_name": "HTMLModel",
          "model_module_version": "1.5.0",
          "state": {
            "_view_name": "HTMLView",
            "style": "IPY_MODEL_de227c3c09cb4a7396a6ffad9d34ff19",
            "_dom_classes": [],
            "description": "",
            "_model_name": "HTMLModel",
            "placeholder": "​",
            "_view_module": "@jupyter-widgets/controls",
            "_model_module_version": "1.5.0",
            "value": " 5120/? [00:00&lt;00:00, 119455.29it/s]",
            "_view_count": null,
            "_view_module_version": "1.5.0",
            "description_tooltip": null,
            "_model_module": "@jupyter-widgets/controls",
            "layout": "IPY_MODEL_5ef8381ed39048bf97aedfe60453c9ec"
          }
        },
        "3a45eb4c66fe4a3d965cf47e0aed784a": {
          "model_module": "@jupyter-widgets/controls",
          "model_name": "DescriptionStyleModel",
          "model_module_version": "1.5.0",
          "state": {
            "_view_name": "StyleView",
            "_model_name": "DescriptionStyleModel",
            "description_width": "",
            "_view_module": "@jupyter-widgets/base",
            "_model_module_version": "1.5.0",
            "_view_count": null,
            "_view_module_version": "1.2.0",
            "_model_module": "@jupyter-widgets/controls"
          }
        },
        "d503d767f1834042910f779e5c049871": {
          "model_module": "@jupyter-widgets/base",
          "model_name": "LayoutModel",
          "model_module_version": "1.2.0",
          "state": {
            "_view_name": "LayoutView",
            "grid_template_rows": null,
            "right": null,
            "justify_content": null,
            "_view_module": "@jupyter-widgets/base",
            "overflow": null,
            "_model_module_version": "1.2.0",
            "_view_count": null,
            "flex_flow": null,
            "width": null,
            "min_width": null,
            "border": null,
            "align_items": null,
            "bottom": null,
            "_model_module": "@jupyter-widgets/base",
            "top": null,
            "grid_column": null,
            "overflow_y": null,
            "overflow_x": null,
            "grid_auto_flow": null,
            "grid_area": null,
            "grid_template_columns": null,
            "flex": null,
            "_model_name": "LayoutModel",
            "justify_items": null,
            "grid_row": null,
            "max_height": null,
            "align_content": null,
            "visibility": null,
            "align_self": null,
            "height": null,
            "min_height": null,
            "padding": null,
            "grid_auto_rows": null,
            "grid_gap": null,
            "max_width": null,
            "order": null,
            "_view_module_version": "1.2.0",
            "grid_template_areas": null,
            "object_position": null,
            "object_fit": null,
            "grid_auto_columns": null,
            "margin": null,
            "display": null,
            "left": null
          }
        },
        "c8bfdc16cd094f16b3f5364fc536b933": {
          "model_module": "@jupyter-widgets/controls",
          "model_name": "ProgressStyleModel",
          "model_module_version": "1.5.0",
          "state": {
            "_view_name": "StyleView",
            "_model_name": "ProgressStyleModel",
            "description_width": "",
            "_view_module": "@jupyter-widgets/base",
            "_model_module_version": "1.5.0",
            "_view_count": null,
            "_view_module_version": "1.2.0",
            "bar_color": null,
            "_model_module": "@jupyter-widgets/controls"
          }
        },
        "6ee82b60002e45d4a38f477b2a9e175d": {
          "model_module": "@jupyter-widgets/base",
          "model_name": "LayoutModel",
          "model_module_version": "1.2.0",
          "state": {
            "_view_name": "LayoutView",
            "grid_template_rows": null,
            "right": null,
            "justify_content": null,
            "_view_module": "@jupyter-widgets/base",
            "overflow": null,
            "_model_module_version": "1.2.0",
            "_view_count": null,
            "flex_flow": null,
            "width": null,
            "min_width": null,
            "border": null,
            "align_items": null,
            "bottom": null,
            "_model_module": "@jupyter-widgets/base",
            "top": null,
            "grid_column": null,
            "overflow_y": null,
            "overflow_x": null,
            "grid_auto_flow": null,
            "grid_area": null,
            "grid_template_columns": null,
            "flex": null,
            "_model_name": "LayoutModel",
            "justify_items": null,
            "grid_row": null,
            "max_height": null,
            "align_content": null,
            "visibility": null,
            "align_self": null,
            "height": null,
            "min_height": null,
            "padding": null,
            "grid_auto_rows": null,
            "grid_gap": null,
            "max_width": null,
            "order": null,
            "_view_module_version": "1.2.0",
            "grid_template_areas": null,
            "object_position": null,
            "object_fit": null,
            "grid_auto_columns": null,
            "margin": null,
            "display": null,
            "left": null
          }
        },
        "de227c3c09cb4a7396a6ffad9d34ff19": {
          "model_module": "@jupyter-widgets/controls",
          "model_name": "DescriptionStyleModel",
          "model_module_version": "1.5.0",
          "state": {
            "_view_name": "StyleView",
            "_model_name": "DescriptionStyleModel",
            "description_width": "",
            "_view_module": "@jupyter-widgets/base",
            "_model_module_version": "1.5.0",
            "_view_count": null,
            "_view_module_version": "1.2.0",
            "_model_module": "@jupyter-widgets/controls"
          }
        },
        "5ef8381ed39048bf97aedfe60453c9ec": {
          "model_module": "@jupyter-widgets/base",
          "model_name": "LayoutModel",
          "model_module_version": "1.2.0",
          "state": {
            "_view_name": "LayoutView",
            "grid_template_rows": null,
            "right": null,
            "justify_content": null,
            "_view_module": "@jupyter-widgets/base",
            "overflow": null,
            "_model_module_version": "1.2.0",
            "_view_count": null,
            "flex_flow": null,
            "width": null,
            "min_width": null,
            "border": null,
            "align_items": null,
            "bottom": null,
            "_model_module": "@jupyter-widgets/base",
            "top": null,
            "grid_column": null,
            "overflow_y": null,
            "overflow_x": null,
            "grid_auto_flow": null,
            "grid_area": null,
            "grid_template_columns": null,
            "flex": null,
            "_model_name": "LayoutModel",
            "justify_items": null,
            "grid_row": null,
            "max_height": null,
            "align_content": null,
            "visibility": null,
            "align_self": null,
            "height": null,
            "min_height": null,
            "padding": null,
            "grid_auto_rows": null,
            "grid_gap": null,
            "max_width": null,
            "order": null,
            "_view_module_version": "1.2.0",
            "grid_template_areas": null,
            "object_position": null,
            "object_fit": null,
            "grid_auto_columns": null,
            "margin": null,
            "display": null,
            "left": null
          }
        }
      }
    }
  },
  "cells": [
    {
      "cell_type": "markdown",
      "metadata": {
        "id": "eSNNzdlA9EiQ"
      },
      "source": [
        "## Importing Libraries"
      ]
    },
    {
      "cell_type": "code",
      "metadata": {
        "id": "ylbLOWOS8hYS"
      },
      "source": [
        "import torch\n",
        "from torchvision import datasets, transforms\n",
        "from torch import nn\n",
        "import torch.nn.functional as F\n",
        "# !pip install torchsummary\n",
        "from torchsummary import summary\n",
        "from tqdm import tqdm\n",
        "from torch.optim.lr_scheduler import StepLR\n",
        "\n",
        "import matplotlib.pyplot as plt\n",
        "% matplotlib inline\n",
        "\n",
        "import seaborn as sns\n",
        "import numpy as np\n",
        "\n",
        "# !pip3 install graphviz\n",
        "# !pip3 install hiddenlayer\n",
        "import hiddenlayer as hl"
      ],
      "execution_count": 1,
      "outputs": []
    },
    {
      "cell_type": "markdown",
      "metadata": {
        "id": "a-GlzFHN9Oz-"
      },
      "source": [
        "## Setting the seed"
      ]
    },
    {
      "cell_type": "code",
      "metadata": {
        "colab": {
          "base_uri": "https://localhost:8080/"
        },
        "id": "PIfg7v_o9OM6",
        "outputId": "768ea2ee-058d-4820-b701-38795f4ff983"
      },
      "source": [
        "torch.manual_seed(10)"
      ],
      "execution_count": 2,
      "outputs": [
        {
          "output_type": "execute_result",
          "data": {
            "text/plain": [
              "<torch._C.Generator at 0x7fd1ecfd5b90>"
            ]
          },
          "metadata": {},
          "execution_count": 2
        }
      ]
    },
    {
      "cell_type": "markdown",
      "metadata": {
        "id": "RBdgmKiR9qXR"
      },
      "source": [
        "## Downloading MNIST Train/Test Data and preparing Train/Test Dataloaders\n"
      ]
    },
    {
      "cell_type": "code",
      "metadata": {
        "colab": {
          "base_uri": "https://localhost:8080/",
          "height": 465,
          "referenced_widgets": [
            "35e74eb6079f449e8e540bcd9650f4b1",
            "edc314d5bca24ef1bb2580ea2814d249",
            "0e4c8bbc60db4ecd9ed571e3edde401c",
            "d4d1fbdd6d86443a8e4cddfb47660a2e",
            "e37fe3e841c74355958296c26415fdf1",
            "854c93da383449128551751f336d5209",
            "248659960a0b4f39846103c9159db0b3",
            "35b49d98958247f5b31a17d87f0ee8a9",
            "bf814d7ebe5e4c05a95d79b01f39148e",
            "ffb28f1e731a4e168b7c3b7f453cdc17",
            "7e097a4e400a44eb92150c8d4dc6e54a",
            "b9b6190e9387484d9cdafaa244869673",
            "a1ad79859a2f42c98a57ef94b60be000",
            "c35f68fb0bd243eaae5246c67b3ec360",
            "b4a1416911ab44b7aad5b316ca5cc458",
            "6c744a756d87487ea97986cfe0b2f8b4",
            "fd7125b963f44f04bc4e2ae4b3292d8f",
            "c0b35728a47e4174854fe84955c92d0b",
            "33e2580dcb744cf0b7317825e4acfb21",
            "6bf68750cbb54629927f2245bf7cfe5e",
            "a187beb305904ca5ab061e9ac7a7b14e",
            "b5b6eb4e7b5f4bda9b59d3353bf539d1",
            "b8fc2d8e73bd4803b99e44883fc05d08",
            "0e2db481d87245e3b7227d6d1dbad14e",
            "1db657199960479a9e023e73c1ec4e90",
            "723d657817db482c8263a414cc62721b",
            "c8ba73540fba407fa670589ce70dbebf",
            "60c03860d2074cc699ed17d9d2a3b45f",
            "b1fb8edb62a34aea897589f4b2afe5b7",
            "b2c1195a804e44658f52f1e31082e35b",
            "45a55b06e6b04f8cad12b71e1d315996",
            "67dfe2fd278f4c87a63aed77dc64195f",
            "6f1c30d9b4ce4d42bc56ade4deea634c",
            "aa72cdfe77cc4e91b423fce3c83d057e",
            "24bce34ca1e24aceab14345d40b4a040",
            "8e20f499fbeb4c3da36ca8168efd6fab",
            "779a03d5dbe540c4a3d153d8369df619",
            "ed08568758ff47e28455fc9f82d563e6",
            "3a45eb4c66fe4a3d965cf47e0aed784a",
            "d503d767f1834042910f779e5c049871",
            "c8bfdc16cd094f16b3f5364fc536b933",
            "6ee82b60002e45d4a38f477b2a9e175d",
            "de227c3c09cb4a7396a6ffad9d34ff19",
            "5ef8381ed39048bf97aedfe60453c9ec"
          ]
        },
        "id": "5k-mcK5l9ZjM",
        "outputId": "99276ccc-3b3f-4f66-e1cc-5a2ced010a6c"
      },
      "source": [
        "batch_size = 64\n",
        "use_cuda = torch.cuda.is_available()\n",
        "\n",
        "data_loader_args = {'num_workers': 2, 'pin_memory': True, 'batch_size': batch_size, 'shuffle': True} if use_cuda else {'batch_size': 32, 'shuffle': True}\n",
        "train = datasets.MNIST('../data', train=True, download=True,\n",
        "                    transform=transforms.Compose([\n",
        "                        transforms.RandomRotation(5), # data augmentation\n",
        "                        transforms.RandomAffine(degrees=5, translate=(0.15,0.15), scale=(0.9, 1.1)), # data augmentation\n",
        "                        transforms.ToTensor(),\n",
        "                        transforms.Normalize((0.1307,), (0.3081,))\n",
        "                    ]))\n",
        "\n",
        "test = datasets.MNIST('../data', train=False, transform=transforms.Compose([\n",
        "                        transforms.ToTensor(),\n",
        "                        transforms.Normalize((0.1307,), (0.3081,))\n",
        "                    ]))\n",
        "train_loader = torch.utils.data.DataLoader(train, **data_loader_args)\n",
        "test_loader = torch.utils.data.DataLoader(test, **data_loader_args)"
      ],
      "execution_count": 3,
      "outputs": [
        {
          "output_type": "stream",
          "name": "stdout",
          "text": [
            "Downloading http://yann.lecun.com/exdb/mnist/train-images-idx3-ubyte.gz\n",
            "Downloading http://yann.lecun.com/exdb/mnist/train-images-idx3-ubyte.gz to ../data/MNIST/raw/train-images-idx3-ubyte.gz\n"
          ]
        },
        {
          "output_type": "display_data",
          "data": {
            "application/vnd.jupyter.widget-view+json": {
              "model_id": "35e74eb6079f449e8e540bcd9650f4b1",
              "version_minor": 0,
              "version_major": 2
            },
            "text/plain": [
              "  0%|          | 0/9912422 [00:00<?, ?it/s]"
            ]
          },
          "metadata": {}
        },
        {
          "output_type": "stream",
          "name": "stdout",
          "text": [
            "Extracting ../data/MNIST/raw/train-images-idx3-ubyte.gz to ../data/MNIST/raw\n",
            "\n",
            "Downloading http://yann.lecun.com/exdb/mnist/train-labels-idx1-ubyte.gz\n",
            "Downloading http://yann.lecun.com/exdb/mnist/train-labels-idx1-ubyte.gz to ../data/MNIST/raw/train-labels-idx1-ubyte.gz\n"
          ]
        },
        {
          "output_type": "display_data",
          "data": {
            "application/vnd.jupyter.widget-view+json": {
              "model_id": "b9b6190e9387484d9cdafaa244869673",
              "version_minor": 0,
              "version_major": 2
            },
            "text/plain": [
              "  0%|          | 0/28881 [00:00<?, ?it/s]"
            ]
          },
          "metadata": {}
        },
        {
          "output_type": "stream",
          "name": "stdout",
          "text": [
            "Extracting ../data/MNIST/raw/train-labels-idx1-ubyte.gz to ../data/MNIST/raw\n",
            "\n",
            "Downloading http://yann.lecun.com/exdb/mnist/t10k-images-idx3-ubyte.gz\n",
            "Downloading http://yann.lecun.com/exdb/mnist/t10k-images-idx3-ubyte.gz to ../data/MNIST/raw/t10k-images-idx3-ubyte.gz\n"
          ]
        },
        {
          "output_type": "display_data",
          "data": {
            "application/vnd.jupyter.widget-view+json": {
              "model_id": "b8fc2d8e73bd4803b99e44883fc05d08",
              "version_minor": 0,
              "version_major": 2
            },
            "text/plain": [
              "  0%|          | 0/1648877 [00:00<?, ?it/s]"
            ]
          },
          "metadata": {}
        },
        {
          "output_type": "stream",
          "name": "stdout",
          "text": [
            "Extracting ../data/MNIST/raw/t10k-images-idx3-ubyte.gz to ../data/MNIST/raw\n",
            "\n",
            "Downloading http://yann.lecun.com/exdb/mnist/t10k-labels-idx1-ubyte.gz\n",
            "Downloading http://yann.lecun.com/exdb/mnist/t10k-labels-idx1-ubyte.gz to ../data/MNIST/raw/t10k-labels-idx1-ubyte.gz\n"
          ]
        },
        {
          "output_type": "display_data",
          "data": {
            "application/vnd.jupyter.widget-view+json": {
              "model_id": "aa72cdfe77cc4e91b423fce3c83d057e",
              "version_minor": 0,
              "version_major": 2
            },
            "text/plain": [
              "  0%|          | 0/4542 [00:00<?, ?it/s]"
            ]
          },
          "metadata": {}
        },
        {
          "output_type": "stream",
          "name": "stdout",
          "text": [
            "Extracting ../data/MNIST/raw/t10k-labels-idx1-ubyte.gz to ../data/MNIST/raw\n",
            "\n"
          ]
        },
        {
          "output_type": "stream",
          "name": "stderr",
          "text": [
            "/usr/local/lib/python3.7/dist-packages/torchvision/datasets/mnist.py:498: UserWarning: The given NumPy array is not writeable, and PyTorch does not support non-writeable tensors. This means you can write to the underlying (supposedly non-writeable) NumPy array using the tensor. You may want to copy the array to protect its data or make it writeable before converting it to a tensor. This type of warning will be suppressed for the rest of this program. (Triggered internally at  /pytorch/torch/csrc/utils/tensor_numpy.cpp:180.)\n",
            "  return torch.from_numpy(parsed.astype(m[2], copy=False)).view(*s)\n"
          ]
        }
      ]
    },
    {
      "cell_type": "markdown",
      "metadata": {
        "id": "4_-ypUACGoSU"
      },
      "source": [
        "## Visualising the data"
      ]
    },
    {
      "cell_type": "code",
      "metadata": {
        "colab": {
          "base_uri": "https://localhost:8080/",
          "height": 539
        },
        "id": "dYQ5SI07B7g1",
        "outputId": "3a4342a1-0e90-4565-a3e5-b71f7e7e6154"
      },
      "source": [
        "images, labels, = next(iter(train_loader))\n",
        "\n",
        "fig = plt.figure()\n",
        "for i in range(6):\n",
        "  plt.subplot(2,3,i+1)\n",
        "  plt.tight_layout()\n",
        "  plt.imshow(images[i][0], cmap='gray', interpolation='none')\n",
        "  plt.xticks([])\n",
        "  plt.yticks([])\n",
        "fig"
      ],
      "execution_count": 4,
      "outputs": [
        {
          "output_type": "execute_result",
          "data": {
            "image/png": "[encoded data removed]",
            "text/plain": [
              "<Figure size 432x288 with 6 Axes>"
            ]
          },
          "metadata": {},
          "execution_count": 4
        },
        {
          "output_type": "display_data",
          "data": {
            "image/png": "[encoded data removed]",
            "text/plain": [
              "<Figure size 432x288 with 6 Axes>"
            ]
          },
          "metadata": {}
        }
      ]
    },
    {
      "cell_type": "markdown",
      "metadata": {
        "id": "CzmRmc6gG34s"
      },
      "source": [
        "## Defining Neural Network\n"
      ]
    },
    {
      "cell_type": "code",
      "metadata": {
        "id": "Hg_Qp1KvL1dr"
      },
      "source": [
        "class NeuralNetwork(nn.Module):\n",
        "    def __init__(self):\n",
        "        super(NeuralNetwork, self).__init__()\n",
        "        self.conv1 = nn.Conv2d(in_channels=1, out_channels=4, kernel_size=3, padding=1)  # 28x28x1 -> 28x28x4\n",
        "        self.bn1 = nn.BatchNorm2d(num_features=4)\n",
        "        self.conv2 = nn.Conv2d(in_channels=4, out_channels=8, kernel_size=3, padding=1)  # 28x28x4 -> 28x28x8\n",
        "        self.bn2 = nn.BatchNorm2d(num_features=8)\n",
        "        self.conv3 = nn.Conv2d(in_channels=8, out_channels=12, kernel_size=3, padding=1)  # 28x28x8 -> 28x28x12\n",
        "        self.bn3 = nn.BatchNorm2d(num_features=12)\n",
        "        self.conv4 = nn.Conv2d(in_channels=12, out_channels=16, kernel_size=3, padding=1)  # 28x28x12 -> 28x28x16\n",
        "        self.bn4 = nn.BatchNorm2d(num_features=16)\n",
        "        self.conv5 = nn.Conv2d(in_channels=16, out_channels=20, kernel_size=3, padding=1)  # 28x28x16 -> 28x28x20\n",
        "        self.bn5 = nn.BatchNorm2d(num_features=20)\n",
        "        self.dropout = nn.Dropout2d(0.1)\n",
        "        \n",
        "        self.pool1 = nn.MaxPool2d(kernel_size=2, stride=2)  # 28x28x20 -> 14x14x20\n",
        "        self.transition1 = nn.Conv2d(in_channels=20, out_channels=4, kernel_size=1)  # 14x14x20 -> 14x14x4\n",
        "        \n",
        "        self.conv6 = nn.Conv2d(in_channels=4, out_channels=8, kernel_size=3)  # 14x14x4 -> 12x12x8\n",
        "        self.bn6 = nn.BatchNorm2d(num_features=8)\n",
        "        self.conv7 = nn.Conv2d(in_channels=8, out_channels=12, kernel_size=3)  # 12x12x8 -> 10x10x12\n",
        "        self.bn7 = nn.BatchNorm2d(num_features=12)\n",
        "        self.conv8 = nn.Conv2d(in_channels=12, out_channels=16, kernel_size=3)  # 10x10x12 -> 8x8x16\n",
        "        self.bn8 = nn.BatchNorm2d(num_features=16)\n",
        "        self.conv9 = nn.Conv2d(in_channels=16, out_channels=10, kernel_size=1) # 8x8x16 -> 8x8x10\n",
        "        \n",
        "        self.gap = nn.AvgPool2d(kernel_size=8)\n",
        "        self.fc1 = nn.Linear(in_features=10, out_features=10) \n",
        "\n",
        "    def forward(self, x):\n",
        "        x = self.dropout(F.relu(self.conv1(x)))\n",
        "        x = self.bn2(F.relu(self.conv2(x)))\n",
        "        x = self.bn3(F.relu(self.conv3(x)))\n",
        "        x = self.bn4(F.relu(self.conv4(x)))\n",
        "        x = self.bn5(F.relu(self.conv5(x)))\n",
        "        x = self.transition1(self.pool1(x))\n",
        "        x = self.bn6(F.relu(self.conv6(x)))\n",
        "        x = self.bn7(F.relu(self.conv7(x)))\n",
        "        x = self.conv9(self.bn8(F.relu(self.conv8(x))))\n",
        "        x = self.gap(x)\n",
        "        x = x.view(-1,10)\n",
        "        x = self.fc1(x)\n",
        "\n",
        "        return F.log_softmax(x, dim=1)"
      ],
      "execution_count": 5,
      "outputs": []
    },
    {
      "cell_type": "markdown",
      "metadata": {
        "id": "nU-eTdO2LgGD"
      },
      "source": [
        "## Checking for GPU"
      ]
    },
    {
      "cell_type": "code",
      "metadata": {
        "colab": {
          "base_uri": "https://localhost:8080/"
        },
        "id": "Mb7MNeuSK6Ut",
        "outputId": "6b50939e-ce80-4fa3-e400-d9f0257beeeb"
      },
      "source": [
        "device = \"cuda\" if torch.cuda.is_available() else \"cpu\"\n",
        "print(\"Using {} device\".format(device))"
      ],
      "execution_count": 6,
      "outputs": [
        {
          "output_type": "stream",
          "name": "stdout",
          "text": [
            "Using cuda device\n"
          ]
        }
      ]
    },
    {
      "cell_type": "markdown",
      "metadata": {
        "id": "XxqgVxXeNCql"
      },
      "source": [
        "## Defining Train/Test Function"
      ]
    },
    {
      "cell_type": "code",
      "metadata": {
        "id": "whSVqO8JLpaU"
      },
      "source": [
        "def train(model, device, train_loader, optimizer, epoch):\n",
        "    # set the model in training model\n",
        "    model.train()\n",
        "    correct = 0\n",
        "    epoch_loss = 0\n",
        "\n",
        "    pbar = tqdm(train_loader)\n",
        "    # run for all the data in train_loader\n",
        "    for batch_idx, (data, target) in enumerate(pbar):\n",
        "        # move the data to device\n",
        "        data, target = data.to(device), target.to(device)\n",
        "\n",
        "        # zero out the gradients\n",
        "        optimizer.zero_grad()\n",
        "\n",
        "        # forward pass the model with the data\n",
        "        output = model(data)\n",
        "\n",
        "        # compute the loss occured\n",
        "        loss = F.nll_loss(output, target)\n",
        "\n",
        "        epoch_loss += loss.item()\n",
        "\n",
        "        # compute the backward gradients\n",
        "        loss.backward()\n",
        "\n",
        "        # update the optimizer params\n",
        "        optimizer.step()\n",
        "    \n",
        "        pbar.set_description(desc= f'loss={loss.item()} batch_id={batch_idx}')\n",
        "        \n",
        "        # get the index of max log-probability\n",
        "        pred = output.argmax(dim=1, keepdim=True)\n",
        "        \n",
        "        # increment the correct prediction count if pred is correct\n",
        "        correct += pred.eq(target.view_as(pred)).sum().item()\n",
        "    \n",
        "    # train loss divided by the total number of items in train dataset\n",
        "    train_loss = epoch_loss / len(train_loader)\n",
        "    accuracy = 100. * correct / len(train_loader.dataset)\n",
        "    print(f'Train set: Average loss: {train_loss:.3f}', \n",
        "          f'Accuracy: {accuracy}')\n",
        "    \n",
        "    return train_loss\n",
        "\n",
        "\n",
        "def test(model, device, test_loader):\n",
        "    \n",
        "    # set the model in evaluation model\n",
        "    model.eval()\n",
        "\n",
        "    # set the loss to zero\n",
        "    test_loss = 0\n",
        "    \n",
        "    # the number of correct classifications\n",
        "    correct = 0\n",
        "\n",
        "    # turn off gradients during the testing\n",
        "    with torch.no_grad():\n",
        "        for (data, target) in test_loader:\n",
        "\n",
        "            # move the data to device\n",
        "            data, target = data.to(device), target.to(device)\n",
        "\n",
        "            # forward pass the model and get the output\n",
        "            output = model(data)\n",
        "\n",
        "            # accumulate the loss from both the network outputs\n",
        "            test_loss += F.nll_loss(output, target, reduction='sum').item()\n",
        "\n",
        "            # get the index of max log-probability\n",
        "            pred = output.argmax(dim=1, keepdim=True)\n",
        "\n",
        "            # increment the correct prediction count if pred is correct\n",
        "            correct += pred.eq(target.view_as(pred)).sum().item()\n",
        "\n",
        "\n",
        "    # test loss divided by the total number of items in test dataset\n",
        "    test_loss /= len(test_loader.dataset)\n",
        "    accuracy = 100. * correct / len(test_loader.dataset)\n",
        "    print(f'Test set: Average loss: {test_loss:.3f}', \n",
        "          f'Accuracy: {accuracy}')\n",
        "    return test_loss\n"
      ],
      "execution_count": 7,
      "outputs": []
    },
    {
      "cell_type": "markdown",
      "metadata": {
        "id": "SQqALESzSbOB"
      },
      "source": [
        "## Move the model to the specified device"
      ]
    },
    {
      "cell_type": "code",
      "metadata": {
        "colab": {
          "base_uri": "https://localhost:8080/"
        },
        "id": "LvixQXuKScxI",
        "outputId": "8fa22502-94ad-4e3a-fc8f-30d8c038a6b4"
      },
      "source": [
        "model = NeuralNetwork().to(device)\n",
        "summary(model, input_size=(1, 28, 28))"
      ],
      "execution_count": 8,
      "outputs": [
        {
          "output_type": "stream",
          "name": "stdout",
          "text": [
            "----------------------------------------------------------------\n",
            "        Layer (type)               Output Shape         Param #\n",
            "================================================================\n",
            "            Conv2d-1            [-1, 4, 28, 28]              40\n",
            "         Dropout2d-2            [-1, 4, 28, 28]               0\n",
            "            Conv2d-3            [-1, 8, 28, 28]             296\n",
            "       BatchNorm2d-4            [-1, 8, 28, 28]              16\n",
            "            Conv2d-5           [-1, 12, 28, 28]             876\n",
            "       BatchNorm2d-6           [-1, 12, 28, 28]              24\n",
            "            Conv2d-7           [-1, 16, 28, 28]           1,744\n",
            "       BatchNorm2d-8           [-1, 16, 28, 28]              32\n",
            "            Conv2d-9           [-1, 20, 28, 28]           2,900\n",
            "      BatchNorm2d-10           [-1, 20, 28, 28]              40\n",
            "        MaxPool2d-11           [-1, 20, 14, 14]               0\n",
            "           Conv2d-12            [-1, 4, 14, 14]              84\n",
            "           Conv2d-13            [-1, 8, 12, 12]             296\n",
            "      BatchNorm2d-14            [-1, 8, 12, 12]              16\n",
            "           Conv2d-15           [-1, 12, 10, 10]             876\n",
            "      BatchNorm2d-16           [-1, 12, 10, 10]              24\n",
            "           Conv2d-17             [-1, 16, 8, 8]           1,744\n",
            "      BatchNorm2d-18             [-1, 16, 8, 8]              32\n",
            "           Conv2d-19             [-1, 10, 8, 8]             170\n",
            "        AvgPool2d-20             [-1, 10, 1, 1]               0\n",
            "           Linear-21                   [-1, 10]             110\n",
            "================================================================\n",
            "Total params: 9,320\n",
            "Trainable params: 9,320\n",
            "Non-trainable params: 0\n",
            "----------------------------------------------------------------\n",
            "Input size (MB): 0.00\n",
            "Forward/backward pass size (MB): 0.81\n",
            "Params size (MB): 0.04\n",
            "Estimated Total Size (MB): 0.85\n",
            "----------------------------------------------------------------\n"
          ]
        },
        {
          "output_type": "stream",
          "name": "stderr",
          "text": [
            "/usr/local/lib/python3.7/dist-packages/torch/nn/functional.py:718: UserWarning: Named tensors and all their associated APIs are an experimental feature and subject to change. Please do not use them for anything important until they are released as stable. (Triggered internally at  /pytorch/c10/core/TensorImpl.h:1156.)\n",
            "  return torch.max_pool2d(input, kernel_size, stride, padding, dilation, ceil_mode)\n"
          ]
        }
      ]
    },
    {
      "cell_type": "markdown",
      "metadata": {
        "id": "jEWtg2PzM81P"
      },
      "source": [
        ""
      ]
    },
    {
      "cell_type": "markdown",
      "metadata": {
        "id": "c7wxldJCdtR5"
      },
      "source": [
        "## Training the model with Learning Rate Scheduler"
      ]
    },
    {
      "cell_type": "code",
      "metadata": {
        "colab": {
          "base_uri": "https://localhost:8080/"
        },
        "id": "lQ_U_7U0ZvHe",
        "outputId": "c9072ba8-c325-4346-87db-bcf15b2f860c"
      },
      "source": [
        "# use Stochastic Gradient Descent as the optimizer\n",
        "optimizer = torch.optim.SGD(model.parameters(), lr=0.01, momentum=0.9)\n",
        "scheduler = StepLR(optimizer, step_size= 8, gamma= 0.25)\n",
        "\n",
        "# set the number of epochs to train for\n",
        "num_epoch = 12\n",
        "\n",
        "train_loss_values = []\n",
        "valid_loss_values = []\n",
        "\n",
        "# run it for epoch number of times\n",
        "for epoch in range(1, num_epoch+1):\n",
        "    print('\\nEpoch {} : '.format(epoch))\n",
        "    # train the model\n",
        "    train_loss = train(model, device, train_loader, optimizer, epoch)\n",
        "    # test the model\n",
        "    test_loss = test(model, device, test_loader)\n",
        "\n",
        "    train_loss_values.append(train_loss)\n",
        "    valid_loss_values.append(test_loss)\n",
        "\n",
        "    scheduler.step()"
      ],
      "execution_count": 9,
      "outputs": [
        {
          "output_type": "stream",
          "name": "stdout",
          "text": [
            "\n",
            "Epoch 1 : \n"
          ]
        },
        {
          "output_type": "stream",
          "name": "stderr",
          "text": [
            "loss=0.3429986536502838 batch_id=937: 100%|██████████| 938/938 [00:41<00:00, 22.74it/s]"
          ]
        },
        {
          "output_type": "stream",
          "name": "stdout",
          "text": [
            "Train set: Average loss: 0.603 Accuracy: 80.05\n"
          ]
        },
        {
          "output_type": "stream",
          "name": "stderr",
          "text": [
            "\n"
          ]
        },
        {
          "output_type": "stream",
          "name": "stdout",
          "text": [
            "Test set: Average loss: 0.071 Accuracy: 97.78\n",
            "\n",
            "Epoch 2 : \n"
          ]
        },
        {
          "output_type": "stream",
          "name": "stderr",
          "text": [
            "loss=0.03419129550457001 batch_id=937: 100%|██████████| 938/938 [00:41<00:00, 22.55it/s]"
          ]
        },
        {
          "output_type": "stream",
          "name": "stdout",
          "text": [
            "Train set: Average loss: 0.125 Accuracy: 96.44333333333333\n"
          ]
        },
        {
          "output_type": "stream",
          "name": "stderr",
          "text": [
            "\n"
          ]
        },
        {
          "output_type": "stream",
          "name": "stdout",
          "text": [
            "Test set: Average loss: 0.059 Accuracy: 98.14\n",
            "\n",
            "Epoch 3 : \n"
          ]
        },
        {
          "output_type": "stream",
          "name": "stderr",
          "text": [
            "loss=0.16522426903247833 batch_id=937: 100%|██████████| 938/938 [00:42<00:00, 22.20it/s]"
          ]
        },
        {
          "output_type": "stream",
          "name": "stdout",
          "text": [
            "Train set: Average loss: 0.095 Accuracy: 97.17666666666666\n"
          ]
        },
        {
          "output_type": "stream",
          "name": "stderr",
          "text": [
            "\n"
          ]
        },
        {
          "output_type": "stream",
          "name": "stdout",
          "text": [
            "Test set: Average loss: 0.050 Accuracy: 98.48\n",
            "\n",
            "Epoch 4 : \n"
          ]
        },
        {
          "output_type": "stream",
          "name": "stderr",
          "text": [
            "loss=0.0651002749800682 batch_id=937: 100%|██████████| 938/938 [00:42<00:00, 22.02it/s]"
          ]
        },
        {
          "output_type": "stream",
          "name": "stdout",
          "text": [
            "Train set: Average loss: 0.083 Accuracy: 97.5\n"
          ]
        },
        {
          "output_type": "stream",
          "name": "stderr",
          "text": [
            "\n"
          ]
        },
        {
          "output_type": "stream",
          "name": "stdout",
          "text": [
            "Test set: Average loss: 0.035 Accuracy: 98.88\n",
            "\n",
            "Epoch 5 : \n"
          ]
        },
        {
          "output_type": "stream",
          "name": "stderr",
          "text": [
            "loss=0.03457719087600708 batch_id=937: 100%|██████████| 938/938 [00:42<00:00, 22.18it/s]"
          ]
        },
        {
          "output_type": "stream",
          "name": "stdout",
          "text": [
            "Train set: Average loss: 0.075 Accuracy: 97.78833333333333\n"
          ]
        },
        {
          "output_type": "stream",
          "name": "stderr",
          "text": [
            "\n"
          ]
        },
        {
          "output_type": "stream",
          "name": "stdout",
          "text": [
            "Test set: Average loss: 0.031 Accuracy: 98.98\n",
            "\n",
            "Epoch 6 : \n"
          ]
        },
        {
          "output_type": "stream",
          "name": "stderr",
          "text": [
            "loss=0.0825406014919281 batch_id=937: 100%|██████████| 938/938 [00:42<00:00, 22.13it/s]"
          ]
        },
        {
          "output_type": "stream",
          "name": "stdout",
          "text": [
            "Train set: Average loss: 0.067 Accuracy: 97.945\n"
          ]
        },
        {
          "output_type": "stream",
          "name": "stderr",
          "text": [
            "\n"
          ]
        },
        {
          "output_type": "stream",
          "name": "stdout",
          "text": [
            "Test set: Average loss: 0.028 Accuracy: 99.07\n",
            "\n",
            "Epoch 7 : \n"
          ]
        },
        {
          "output_type": "stream",
          "name": "stderr",
          "text": [
            "loss=0.03722963109612465 batch_id=937: 100%|██████████| 938/938 [00:42<00:00, 22.29it/s]"
          ]
        },
        {
          "output_type": "stream",
          "name": "stdout",
          "text": [
            "Train set: Average loss: 0.064 Accuracy: 98.055\n"
          ]
        },
        {
          "output_type": "stream",
          "name": "stderr",
          "text": [
            "\n"
          ]
        },
        {
          "output_type": "stream",
          "name": "stdout",
          "text": [
            "Test set: Average loss: 0.029 Accuracy: 99.06\n",
            "\n",
            "Epoch 8 : \n"
          ]
        },
        {
          "output_type": "stream",
          "name": "stderr",
          "text": [
            "loss=0.03204820677638054 batch_id=937: 100%|██████████| 938/938 [00:41<00:00, 22.38it/s]"
          ]
        },
        {
          "output_type": "stream",
          "name": "stdout",
          "text": [
            "Train set: Average loss: 0.060 Accuracy: 98.14833333333333\n"
          ]
        },
        {
          "output_type": "stream",
          "name": "stderr",
          "text": [
            "\n"
          ]
        },
        {
          "output_type": "stream",
          "name": "stdout",
          "text": [
            "Test set: Average loss: 0.031 Accuracy: 99.03\n",
            "\n",
            "Epoch 9 : \n"
          ]
        },
        {
          "output_type": "stream",
          "name": "stderr",
          "text": [
            "loss=0.029772572219371796 batch_id=937: 100%|██████████| 938/938 [00:42<00:00, 22.19it/s]"
          ]
        },
        {
          "output_type": "stream",
          "name": "stdout",
          "text": [
            "Train set: Average loss: 0.048 Accuracy: 98.53833333333333\n"
          ]
        },
        {
          "output_type": "stream",
          "name": "stderr",
          "text": [
            "\n"
          ]
        },
        {
          "output_type": "stream",
          "name": "stdout",
          "text": [
            "Test set: Average loss: 0.020 Accuracy: 99.38\n",
            "\n",
            "Epoch 10 : \n"
          ]
        },
        {
          "output_type": "stream",
          "name": "stderr",
          "text": [
            "loss=0.009376359172165394 batch_id=937: 100%|██████████| 938/938 [00:41<00:00, 22.37it/s]"
          ]
        },
        {
          "output_type": "stream",
          "name": "stdout",
          "text": [
            "Train set: Average loss: 0.044 Accuracy: 98.64833333333333\n"
          ]
        },
        {
          "output_type": "stream",
          "name": "stderr",
          "text": [
            "\n"
          ]
        },
        {
          "output_type": "stream",
          "name": "stdout",
          "text": [
            "Test set: Average loss: 0.019 Accuracy: 99.43\n",
            "\n",
            "Epoch 11 : \n"
          ]
        },
        {
          "output_type": "stream",
          "name": "stderr",
          "text": [
            "loss=0.058516353368759155 batch_id=937: 100%|██████████| 938/938 [00:42<00:00, 22.24it/s]"
          ]
        },
        {
          "output_type": "stream",
          "name": "stdout",
          "text": [
            "Train set: Average loss: 0.044 Accuracy: 98.57166666666667\n"
          ]
        },
        {
          "output_type": "stream",
          "name": "stderr",
          "text": [
            "\n"
          ]
        },
        {
          "output_type": "stream",
          "name": "stdout",
          "text": [
            "Test set: Average loss: 0.020 Accuracy: 99.4\n",
            "\n",
            "Epoch 12 : \n"
          ]
        },
        {
          "output_type": "stream",
          "name": "stderr",
          "text": [
            "loss=0.008633488789200783 batch_id=937: 100%|██████████| 938/938 [00:42<00:00, 21.96it/s]"
          ]
        },
        {
          "output_type": "stream",
          "name": "stdout",
          "text": [
            "Train set: Average loss: 0.045 Accuracy: 98.63333333333334\n"
          ]
        },
        {
          "output_type": "stream",
          "name": "stderr",
          "text": [
            "\n"
          ]
        },
        {
          "output_type": "stream",
          "name": "stdout",
          "text": [
            "Test set: Average loss: 0.019 Accuracy: 99.41\n"
          ]
        }
      ]
    },
    {
      "cell_type": "markdown",
      "metadata": {
        "id": "NBVWtQkudCol"
      },
      "source": [
        ""
      ]
    },
    {
      "cell_type": "markdown",
      "metadata": {
        "id": "fb1GbWvxd8FE"
      },
      "source": [
        "## Plotting the loss function"
      ]
    },
    {
      "cell_type": "code",
      "metadata": {
        "colab": {
          "base_uri": "https://localhost:8080/",
          "height": 427
        },
        "id": "YxWU91AYZ5i5",
        "outputId": "b71dfc08-8e49-44da-ae6f-54874096b7df"
      },
      "source": [
        "# Use plot styling from seaborn.\n",
        "sns.set(style='darkgrid')\n",
        "\n",
        "# Increase the plot size and font size.\n",
        "sns.set(font_scale=1.5)\n",
        "plt.rcParams[\"figure.figsize\"] = (12,6)\n",
        "\n",
        "# Plot the learning curve.\n",
        "plt.plot(np.array(train_loss_values), 'b-o', label=\"Training\")\n",
        "plt.plot(np.array(valid_loss_values), 'g-o', label=\"Test\")\n",
        "\n",
        "# Label the plot.\n",
        "plt.title(\"Training & Test Loss\")\n",
        "plt.xlabel(\"Epoch\")\n",
        "plt.ylabel(\"Loss\")\n",
        "plt.legend()\n",
        "\n",
        "plt.show()"
      ],
      "execution_count": 10,
      "outputs": [
        {
          "output_type": "display_data",
          "data": {
            "image/png": "[encoded data removed]",
            "text/plain": [
              "<Figure size 864x432 with 1 Axes>"
            ]
          },
          "metadata": {}
        }
      ]
    },
    {
      "cell_type": "code",
      "metadata": {
        "colab": {
          "base_uri": "https://localhost:8080/",
          "height": 396
        },
        "id": "6sW5zBvxxEpo",
        "outputId": "d66e2e16-e848-44fa-bbbc-be92be483318"
      },
      "source": [
        "model = NeuralNetwork().to('cuda')\n",
        "network_graph = hl.build_graph(model, torch.zeros([1, 1, 28, 28]).to('cuda'))\n",
        "network_graph.save(\"./images/best_network\", \"png\")\n",
        "network_graph"
      ],
      "execution_count": 14,
      "outputs": [
        {
          "output_type": "stream",
          "name": "stderr",
          "text": [
            "/usr/local/lib/python3.7/dist-packages/torch/onnx/symbolic_helper.py:243: UserWarning: ONNX export failed on feature_dropout because training mode not supported\n",
            "  warnings.warn(\"ONNX export failed on \" + op + \" because \" + msg + \" not supported\")\n",
            "/usr/local/lib/python3.7/dist-packages/torch/onnx/symbolic_helper.py:715: UserWarning: ONNX export mode is set to inference mode, but operator batch_norm is set to training  mode. The model will be exported in inference, as specified by the export mode.\n",
            "  training_mode + \", as specified by the export mode.\")\n"
          ]
        },
        {
          "output_type": "execute_result",
          "data": {
            "text/plain": [
              "<hiddenlayer.graph.Graph at 0x7fd1d764df50>"
            ],
            "image/svg+xml": "<?xml version=\"1.0\" encoding=\"UTF-8\" standalone=\"no\"?>\n<!DOCTYPE svg PUBLIC \"-//W3C//DTD SVG 1.1//EN\"\n \"http://www.w3.org/Graphics/SVG/1.1/DTD/svg11.dtd\">\n<!-- Generated by graphviz version 2.40.1 (20161225.0304)\n -->\n<!-- Title: %3 Pages: 1 -->\n<svg width=\"2683pt\" height=\"216pt\"\n viewBox=\"0.00 0.00 2683.00 216.00\" xmlns=\"http://www.w3.org/2000/svg\" xmlns:xlink=\"http://www.w3.org/1999/xlink\">\n<g id=\"graph0\" class=\"graph\" transform=\"scale(1 1) rotate(0) translate(72 180)\">\n<title>%3</title>\n<polygon fill=\"#ffffff\" stroke=\"transparent\" points=\"-72,36 -72,-180 2611,-180 2611,36 -72,36\"/>\n<!-- /outputs/65 -->\n<g id=\"node1\" class=\"node\">\n<title>/outputs/65</title>\n<polygon fill=\"#e8e8e8\" stroke=\"#000000\" points=\"69,-144 15,-144 15,-108 69,-108 69,-144\"/>\n<text text-anchor=\"start\" x=\"24\" y=\"-123\" font-family=\"Times\" font-size=\"10.00\" fill=\"#000000\">Constant</text>\n</g>\n<!-- /outputs/67 -->\n<g id=\"node3\" class=\"node\">\n<title>/outputs/67</title>\n<polygon fill=\"#e8e8e8\" stroke=\"#000000\" points=\"225,-90 120,-90 120,-54 225,-54 225,-90\"/>\n<text text-anchor=\"start\" x=\"128.5\" y=\"-69\" font-family=\"Times\" font-size=\"10.00\" fill=\"#000000\">aten::feature_dropout</text>\n</g>\n<!-- /outputs/65&#45;&gt;/outputs/67 -->\n<g id=\"edge1\" class=\"edge\">\n<title>/outputs/65&#45;&gt;/outputs/67</title>\n<path fill=\"none\" stroke=\"#000000\" d=\"M69.0397,-114.8112C83.5908,-108.79 102.0562,-101.1492 119.3472,-93.9943\"/>\n<polygon fill=\"#000000\" stroke=\"#000000\" points=\"120.8982,-97.1403 128.8001,-90.0827 118.2217,-90.6722 120.8982,-97.1403\"/>\n</g>\n<!-- /outputs/66 -->\n<g id=\"node2\" class=\"node\">\n<title>/outputs/66</title>\n<polygon fill=\"#e8e8e8\" stroke=\"#000000\" points=\"69,-90 15,-90 15,-54 69,-54 69,-90\"/>\n<text text-anchor=\"start\" x=\"24\" y=\"-69\" font-family=\"Times\" font-size=\"10.00\" fill=\"#000000\">Constant</text>\n</g>\n<!-- /outputs/66&#45;&gt;/outputs/67 -->\n<g id=\"edge2\" class=\"edge\">\n<title>/outputs/66&#45;&gt;/outputs/67</title>\n<path fill=\"none\" stroke=\"#000000\" d=\"M69.0397,-72C80.8745,-72 95.2988,-72 109.5745,-72\"/>\n<polygon fill=\"#000000\" stroke=\"#000000\" points=\"109.904,-75.5001 119.904,-72 109.904,-68.5001 109.904,-75.5001\"/>\n</g>\n<!-- 4211223954938128721 -->\n<g id=\"node21\" class=\"node\">\n<title>4211223954938128721</title>\n<polygon fill=\"#e8e8e8\" stroke=\"#000000\" points=\"345,-90 261,-90 261,-54 345,-54 345,-90\"/>\n<text text-anchor=\"start\" x=\"269\" y=\"-69\" font-family=\"Times\" font-size=\"10.00\" fill=\"#000000\">Conv3x3 &gt; Relu</text>\n</g>\n<!-- /outputs/67&#45;&gt;4211223954938128721 -->\n<g id=\"edge13\" class=\"edge\">\n<title>/outputs/67&#45;&gt;4211223954938128721</title>\n<path fill=\"none\" stroke=\"#000000\" d=\"M225.2032,-72C233.6521,-72 242.3927,-72 250.8291,-72\"/>\n<polygon fill=\"#000000\" stroke=\"#000000\" points=\"250.9288,-75.5001 260.9288,-72 250.9287,-68.5001 250.9288,-75.5001\"/>\n</g>\n<!-- /outputs/70 -->\n<g id=\"node4\" class=\"node\">\n<title>/outputs/70</title>\n<polygon fill=\"#e8e8e8\" stroke=\"#000000\" points=\"444,-90 381,-90 381,-54 444,-54 444,-90\"/>\n<text text-anchor=\"start\" x=\"389.5\" y=\"-69\" font-family=\"Times\" font-size=\"10.00\" fill=\"#000000\">BatchNorm</text>\n</g>\n<!-- 17811981700636392986 -->\n<g id=\"node22\" class=\"node\">\n<title>17811981700636392986</title>\n<polygon fill=\"#e8e8e8\" stroke=\"#000000\" points=\"564,-90 480,-90 480,-54 564,-54 564,-90\"/>\n<text text-anchor=\"start\" x=\"488\" y=\"-69\" font-family=\"Times\" font-size=\"10.00\" fill=\"#000000\">Conv3x3 &gt; Relu</text>\n</g>\n<!-- /outputs/70&#45;&gt;17811981700636392986 -->\n<g id=\"edge15\" class=\"edge\">\n<title>/outputs/70&#45;&gt;17811981700636392986</title>\n<path fill=\"none\" stroke=\"#000000\" d=\"M444.1719,-72C452.1621,-72 460.9549,-72 469.666,-72\"/>\n<polygon fill=\"#000000\" stroke=\"#000000\" points=\"469.8015,-75.5001 479.8015,-72 469.8015,-68.5001 469.8015,-75.5001\"/>\n</g>\n<!-- /outputs/73 -->\n<g id=\"node5\" class=\"node\">\n<title>/outputs/73</title>\n<polygon fill=\"#e8e8e8\" stroke=\"#000000\" points=\"663,-90 600,-90 600,-54 663,-54 663,-90\"/>\n<text text-anchor=\"start\" x=\"608.5\" y=\"-69\" font-family=\"Times\" font-size=\"10.00\" fill=\"#000000\">BatchNorm</text>\n</g>\n<!-- 16850022393094533335 -->\n<g id=\"node23\" class=\"node\">\n<title>16850022393094533335</title>\n<polygon fill=\"#e8e8e8\" stroke=\"#000000\" points=\"783,-90 699,-90 699,-54 783,-54 783,-90\"/>\n<text text-anchor=\"start\" x=\"707\" y=\"-69\" font-family=\"Times\" font-size=\"10.00\" fill=\"#000000\">Conv3x3 &gt; Relu</text>\n</g>\n<!-- /outputs/73&#45;&gt;16850022393094533335 -->\n<g id=\"edge17\" class=\"edge\">\n<title>/outputs/73&#45;&gt;16850022393094533335</title>\n<path fill=\"none\" stroke=\"#000000\" d=\"M663.1719,-72C671.1621,-72 679.9549,-72 688.666,-72\"/>\n<polygon fill=\"#000000\" stroke=\"#000000\" points=\"688.8015,-75.5001 698.8015,-72 688.8015,-68.5001 688.8015,-75.5001\"/>\n</g>\n<!-- /outputs/76 -->\n<g id=\"node6\" class=\"node\">\n<title>/outputs/76</title>\n<polygon fill=\"#e8e8e8\" stroke=\"#000000\" points=\"882,-90 819,-90 819,-54 882,-54 882,-90\"/>\n<text text-anchor=\"start\" x=\"827.5\" y=\"-69\" font-family=\"Times\" font-size=\"10.00\" fill=\"#000000\">BatchNorm</text>\n</g>\n<!-- 16761938787328781068 -->\n<g id=\"node24\" class=\"node\">\n<title>16761938787328781068</title>\n<polygon fill=\"#e8e8e8\" stroke=\"#000000\" points=\"1002,-90 918,-90 918,-54 1002,-54 1002,-90\"/>\n<text text-anchor=\"start\" x=\"926\" y=\"-69\" font-family=\"Times\" font-size=\"10.00\" fill=\"#000000\">Conv3x3 &gt; Relu</text>\n</g>\n<!-- /outputs/76&#45;&gt;16761938787328781068 -->\n<g id=\"edge19\" class=\"edge\">\n<title>/outputs/76&#45;&gt;16761938787328781068</title>\n<path fill=\"none\" stroke=\"#000000\" d=\"M882.1719,-72C890.1621,-72 898.9549,-72 907.666,-72\"/>\n<polygon fill=\"#000000\" stroke=\"#000000\" points=\"907.8015,-75.5001 917.8015,-72 907.8015,-68.5001 907.8015,-75.5001\"/>\n</g>\n<!-- /outputs/79 -->\n<g id=\"node7\" class=\"node\">\n<title>/outputs/79</title>\n<polygon fill=\"#e8e8e8\" stroke=\"#000000\" points=\"1101,-90 1038,-90 1038,-54 1101,-54 1101,-90\"/>\n<text text-anchor=\"start\" x=\"1046.5\" y=\"-69\" font-family=\"Times\" font-size=\"10.00\" fill=\"#000000\">BatchNorm</text>\n</g>\n<!-- /outputs/80 -->\n<g id=\"node8\" class=\"node\">\n<title>/outputs/80</title>\n<polygon fill=\"#e8e8e8\" stroke=\"#000000\" points=\"1207,-90 1137,-90 1137,-54 1207,-54 1207,-90\"/>\n<text text-anchor=\"start\" x=\"1145\" y=\"-69\" font-family=\"Times\" font-size=\"10.00\" fill=\"#000000\">MaxPool2x2</text>\n</g>\n<!-- /outputs/79&#45;&gt;/outputs/80 -->\n<g id=\"edge3\" class=\"edge\">\n<title>/outputs/79&#45;&gt;/outputs/80</title>\n<path fill=\"none\" stroke=\"#000000\" d=\"M1101.0897,-72C1109.2072,-72 1118.1003,-72 1126.7611,-72\"/>\n<polygon fill=\"#000000\" stroke=\"#000000\" points=\"1126.7612,-75.5001 1136.7612,-72 1126.7611,-68.5001 1126.7612,-75.5001\"/>\n</g>\n<!-- /outputs/81 -->\n<g id=\"node9\" class=\"node\">\n<title>/outputs/81</title>\n<polygon fill=\"#e8e8e8\" stroke=\"#000000\" points=\"1298,-90 1243,-90 1243,-54 1298,-54 1298,-90\"/>\n<text text-anchor=\"start\" x=\"1251.5\" y=\"-69\" font-family=\"Times\" font-size=\"10.00\" fill=\"#000000\">Conv1x1</text>\n</g>\n<!-- /outputs/80&#45;&gt;/outputs/81 -->\n<g id=\"edge4\" class=\"edge\">\n<title>/outputs/80&#45;&gt;/outputs/81</title>\n<path fill=\"none\" stroke=\"#000000\" d=\"M1207.0048,-72C1215.339,-72 1224.2686,-72 1232.721,-72\"/>\n<polygon fill=\"#000000\" stroke=\"#000000\" points=\"1232.7222,-75.5001 1242.7222,-72 1232.7221,-68.5001 1232.7222,-75.5001\"/>\n</g>\n<!-- 1135633774714345646 -->\n<g id=\"node25\" class=\"node\">\n<title>1135633774714345646</title>\n<polygon fill=\"#e8e8e8\" stroke=\"#000000\" points=\"1418,-90 1334,-90 1334,-54 1418,-54 1418,-90\"/>\n<text text-anchor=\"start\" x=\"1342\" y=\"-69\" font-family=\"Times\" font-size=\"10.00\" fill=\"#000000\">Conv3x3 &gt; Relu</text>\n</g>\n<!-- /outputs/81&#45;&gt;1135633774714345646 -->\n<g id=\"edge21\" class=\"edge\">\n<title>/outputs/81&#45;&gt;1135633774714345646</title>\n<path fill=\"none\" stroke=\"#000000\" d=\"M1298.2189,-72C1306.0295,-72 1314.7933,-72 1323.5463,-72\"/>\n<polygon fill=\"#000000\" stroke=\"#000000\" points=\"1323.7587,-75.5001 1333.7587,-72 1323.7586,-68.5001 1323.7587,-75.5001\"/>\n</g>\n<!-- /outputs/84 -->\n<g id=\"node10\" class=\"node\">\n<title>/outputs/84</title>\n<polygon fill=\"#e8e8e8\" stroke=\"#000000\" points=\"1517,-90 1454,-90 1454,-54 1517,-54 1517,-90\"/>\n<text text-anchor=\"start\" x=\"1462.5\" y=\"-69\" font-family=\"Times\" font-size=\"10.00\" fill=\"#000000\">BatchNorm</text>\n</g>\n<!-- 9206484455935898472 -->\n<g id=\"node26\" class=\"node\">\n<title>9206484455935898472</title>\n<polygon fill=\"#e8e8e8\" stroke=\"#000000\" points=\"1637,-90 1553,-90 1553,-54 1637,-54 1637,-90\"/>\n<text text-anchor=\"start\" x=\"1561\" y=\"-69\" font-family=\"Times\" font-size=\"10.00\" fill=\"#000000\">Conv3x3 &gt; Relu</text>\n</g>\n<!-- /outputs/84&#45;&gt;9206484455935898472 -->\n<g id=\"edge23\" class=\"edge\">\n<title>/outputs/84&#45;&gt;9206484455935898472</title>\n<path fill=\"none\" stroke=\"#000000\" d=\"M1517.1719,-72C1525.1621,-72 1533.9549,-72 1542.666,-72\"/>\n<polygon fill=\"#000000\" stroke=\"#000000\" points=\"1542.8015,-75.5001 1552.8015,-72 1542.8015,-68.5001 1542.8015,-75.5001\"/>\n</g>\n<!-- /outputs/87 -->\n<g id=\"node11\" class=\"node\">\n<title>/outputs/87</title>\n<polygon fill=\"#e8e8e8\" stroke=\"#000000\" points=\"1736,-90 1673,-90 1673,-54 1736,-54 1736,-90\"/>\n<text text-anchor=\"start\" x=\"1681.5\" y=\"-69\" font-family=\"Times\" font-size=\"10.00\" fill=\"#000000\">BatchNorm</text>\n</g>\n<!-- 8535951203174379655 -->\n<g id=\"node27\" class=\"node\">\n<title>8535951203174379655</title>\n<polygon fill=\"#e8e8e8\" stroke=\"#000000\" points=\"1856,-90 1772,-90 1772,-54 1856,-54 1856,-90\"/>\n<text text-anchor=\"start\" x=\"1780\" y=\"-69\" font-family=\"Times\" font-size=\"10.00\" fill=\"#000000\">Conv3x3 &gt; Relu</text>\n</g>\n<!-- /outputs/87&#45;&gt;8535951203174379655 -->\n<g id=\"edge25\" class=\"edge\">\n<title>/outputs/87&#45;&gt;8535951203174379655</title>\n<path fill=\"none\" stroke=\"#000000\" d=\"M1736.1719,-72C1744.1621,-72 1752.9549,-72 1761.666,-72\"/>\n<polygon fill=\"#000000\" stroke=\"#000000\" points=\"1761.8015,-75.5001 1771.8015,-72 1761.8015,-68.5001 1761.8015,-75.5001\"/>\n</g>\n<!-- /outputs/90 -->\n<g id=\"node12\" class=\"node\">\n<title>/outputs/90</title>\n<polygon fill=\"#e8e8e8\" stroke=\"#000000\" points=\"1955,-90 1892,-90 1892,-54 1955,-54 1955,-90\"/>\n<text text-anchor=\"start\" x=\"1900.5\" y=\"-69\" font-family=\"Times\" font-size=\"10.00\" fill=\"#000000\">BatchNorm</text>\n</g>\n<!-- /outputs/91 -->\n<g id=\"node13\" class=\"node\">\n<title>/outputs/91</title>\n<polygon fill=\"#e8e8e8\" stroke=\"#000000\" points=\"2046,-90 1991,-90 1991,-54 2046,-54 2046,-90\"/>\n<text text-anchor=\"start\" x=\"1999.5\" y=\"-69\" font-family=\"Times\" font-size=\"10.00\" fill=\"#000000\">Conv1x1</text>\n</g>\n<!-- /outputs/90&#45;&gt;/outputs/91 -->\n<g id=\"edge5\" class=\"edge\">\n<title>/outputs/90&#45;&gt;/outputs/91</title>\n<path fill=\"none\" stroke=\"#000000\" d=\"M1955.1336,-72C1963.3455,-72 1972.2722,-72 1980.7638,-72\"/>\n<polygon fill=\"#000000\" stroke=\"#000000\" points=\"1980.8286,-75.5001 1990.8286,-72 1980.8286,-68.5001 1980.8286,-75.5001\"/>\n</g>\n<!-- /outputs/92 -->\n<g id=\"node14\" class=\"node\">\n<title>/outputs/92</title>\n<polygon fill=\"#e8e8e8\" stroke=\"#000000\" points=\"2136,-90 2082,-90 2082,-54 2136,-54 2136,-90\"/>\n<text text-anchor=\"start\" x=\"2101\" y=\"-69\" font-family=\"Times\" font-size=\"10.00\" fill=\"#000000\">Pad</text>\n</g>\n<!-- /outputs/91&#45;&gt;/outputs/92 -->\n<g id=\"edge6\" class=\"edge\">\n<title>/outputs/91&#45;&gt;/outputs/92</title>\n<path fill=\"none\" stroke=\"#000000\" d=\"M2046.1447,-72C2054.201,-72 2063.1394,-72 2071.6876,-72\"/>\n<polygon fill=\"#000000\" stroke=\"#000000\" points=\"2071.8356,-75.5001 2081.8355,-72 2071.8355,-68.5001 2071.8356,-75.5001\"/>\n</g>\n<!-- /outputs/93 -->\n<g id=\"node15\" class=\"node\">\n<title>/outputs/93</title>\n<polygon fill=\"#e8e8e8\" stroke=\"#000000\" points=\"2256,-90 2172,-90 2172,-54 2256,-54 2256,-90\"/>\n<text text-anchor=\"start\" x=\"2180\" y=\"-69\" font-family=\"Times\" font-size=\"10.00\" fill=\"#000000\">AveragePool8x8</text>\n</g>\n<!-- /outputs/92&#45;&gt;/outputs/93 -->\n<g id=\"edge7\" class=\"edge\">\n<title>/outputs/92&#45;&gt;/outputs/93</title>\n<path fill=\"none\" stroke=\"#000000\" d=\"M2136.0401,-72C2143.9868,-72 2152.9603,-72 2161.9177,-72\"/>\n<polygon fill=\"#000000\" stroke=\"#000000\" points=\"2161.9683,-75.5001 2171.9683,-72 2161.9683,-68.5001 2161.9683,-75.5001\"/>\n</g>\n<!-- /outputs/95 -->\n<g id=\"node17\" class=\"node\">\n<title>/outputs/95</title>\n<polygon fill=\"#e8e8e8\" stroke=\"#000000\" points=\"2346,-63 2292,-63 2292,-27 2346,-27 2346,-63\"/>\n<text text-anchor=\"start\" x=\"2302\" y=\"-42\" font-family=\"Times\" font-size=\"10.00\" fill=\"#000000\">Reshape</text>\n</g>\n<!-- /outputs/93&#45;&gt;/outputs/95 -->\n<g id=\"edge8\" class=\"edge\">\n<title>/outputs/93&#45;&gt;/outputs/95</title>\n<path fill=\"none\" stroke=\"#000000\" d=\"M2256.1025,-61.1736C2264.7017,-58.9624 2273.6885,-56.6515 2282.0896,-54.4912\"/>\n<polygon fill=\"#000000\" stroke=\"#000000\" points=\"2283.1679,-57.8279 2291.9812,-51.9477 2281.4246,-51.0484 2283.1679,-57.8279\"/>\n</g>\n<!-- /outputs/94 -->\n<g id=\"node16\" class=\"node\">\n<title>/outputs/94</title>\n<polygon fill=\"#e8e8e8\" stroke=\"#000000\" points=\"2241,-36 2187,-36 2187,0 2241,0 2241,-36\"/>\n<text text-anchor=\"start\" x=\"2196\" y=\"-15\" font-family=\"Times\" font-size=\"10.00\" fill=\"#000000\">Constant</text>\n</g>\n<!-- /outputs/94&#45;&gt;/outputs/95 -->\n<g id=\"edge9\" class=\"edge\">\n<title>/outputs/94&#45;&gt;/outputs/95</title>\n<path fill=\"none\" stroke=\"#000000\" d=\"M2241.0401,-24.9532C2253.4358,-28.1406 2268.33,-31.9706 2281.7639,-35.425\"/>\n<polygon fill=\"#000000\" stroke=\"#000000\" points=\"2281.13,-38.8758 2291.6866,-37.9766 2282.8733,-32.0963 2281.13,-38.8758\"/>\n</g>\n<!-- /outputs/96 -->\n<g id=\"node18\" class=\"node\">\n<title>/outputs/96</title>\n<polygon fill=\"#e8e8e8\" stroke=\"#000000\" points=\"2436,-63 2382,-63 2382,-27 2436,-27 2436,-63\"/>\n<text text-anchor=\"start\" x=\"2396\" y=\"-42\" font-family=\"Times\" font-size=\"10.00\" fill=\"#000000\">Linear</text>\n</g>\n<!-- /outputs/95&#45;&gt;/outputs/96 -->\n<g id=\"edge10\" class=\"edge\">\n<title>/outputs/95&#45;&gt;/outputs/96</title>\n<path fill=\"none\" stroke=\"#000000\" d=\"M2346.003,-45C2354.0277,-45 2362.9665,-45 2371.5309,-45\"/>\n<polygon fill=\"#000000\" stroke=\"#000000\" points=\"2371.7051,-48.5001 2381.705,-45 2371.705,-41.5001 2371.7051,-48.5001\"/>\n</g>\n<!-- /outputs/97 -->\n<g id=\"node19\" class=\"node\">\n<title>/outputs/97</title>\n<polygon fill=\"#e8e8e8\" stroke=\"#000000\" points=\"2539,-63 2472,-63 2472,-27 2539,-27 2539,-63\"/>\n<text text-anchor=\"start\" x=\"2480.5\" y=\"-42\" font-family=\"Times\" font-size=\"10.00\" fill=\"#000000\">LogSoftmax</text>\n</g>\n<!-- /outputs/96&#45;&gt;/outputs/97 -->\n<g id=\"edge11\" class=\"edge\">\n<title>/outputs/96&#45;&gt;/outputs/97</title>\n<path fill=\"none\" stroke=\"#000000\" d=\"M2436.1374,-45C2444.0709,-45 2452.9529,-45 2461.6433,-45\"/>\n<polygon fill=\"#000000\" stroke=\"#000000\" points=\"2461.6887,-48.5001 2471.6886,-45 2461.6886,-41.5001 2461.6887,-48.5001\"/>\n</g>\n<!-- 479067478131925769 -->\n<g id=\"node20\" class=\"node\">\n<title>479067478131925769</title>\n<polygon fill=\"#e8e8e8\" stroke=\"#000000\" points=\"84,-36 0,-36 0,0 84,0 84,-36\"/>\n<text text-anchor=\"start\" x=\"8\" y=\"-15\" font-family=\"Times\" font-size=\"10.00\" fill=\"#000000\">Conv3x3 &gt; Relu</text>\n</g>\n<!-- 479067478131925769&#45;&gt;/outputs/67 -->\n<g id=\"edge12\" class=\"edge\">\n<title>479067478131925769&#45;&gt;/outputs/67</title>\n<path fill=\"none\" stroke=\"#000000\" d=\"M84.0094,-35.3832C95.2977,-40.0542 107.6535,-45.167 119.4567,-50.051\"/>\n<polygon fill=\"#000000\" stroke=\"#000000\" points=\"118.1947,-53.3166 128.7732,-53.9061 120.8713,-46.8485 118.1947,-53.3166\"/>\n</g>\n<!-- 4211223954938128721&#45;&gt;/outputs/70 -->\n<g id=\"edge14\" class=\"edge\">\n<title>4211223954938128721&#45;&gt;/outputs/70</title>\n<path fill=\"none\" stroke=\"#000000\" d=\"M345.0224,-72C353.5122,-72 362.4343,-72 370.9092,-72\"/>\n<polygon fill=\"#000000\" stroke=\"#000000\" points=\"370.9658,-75.5001 380.9658,-72 370.9658,-68.5001 370.9658,-75.5001\"/>\n</g>\n<!-- 17811981700636392986&#45;&gt;/outputs/73 -->\n<g id=\"edge16\" class=\"edge\">\n<title>17811981700636392986&#45;&gt;/outputs/73</title>\n<path fill=\"none\" stroke=\"#000000\" d=\"M564.0224,-72C572.5122,-72 581.4343,-72 589.9092,-72\"/>\n<polygon fill=\"#000000\" stroke=\"#000000\" points=\"589.9658,-75.5001 599.9658,-72 589.9658,-68.5001 589.9658,-75.5001\"/>\n</g>\n<!-- 16850022393094533335&#45;&gt;/outputs/76 -->\n<g id=\"edge18\" class=\"edge\">\n<title>16850022393094533335&#45;&gt;/outputs/76</title>\n<path fill=\"none\" stroke=\"#000000\" d=\"M783.0224,-72C791.5122,-72 800.4343,-72 808.9092,-72\"/>\n<polygon fill=\"#000000\" stroke=\"#000000\" points=\"808.9658,-75.5001 818.9658,-72 808.9658,-68.5001 808.9658,-75.5001\"/>\n</g>\n<!-- 16761938787328781068&#45;&gt;/outputs/79 -->\n<g id=\"edge20\" class=\"edge\">\n<title>16761938787328781068&#45;&gt;/outputs/79</title>\n<path fill=\"none\" stroke=\"#000000\" d=\"M1002.0224,-72C1010.5122,-72 1019.4343,-72 1027.9092,-72\"/>\n<polygon fill=\"#000000\" stroke=\"#000000\" points=\"1027.9658,-75.5001 1037.9658,-72 1027.9658,-68.5001 1027.9658,-75.5001\"/>\n</g>\n<!-- 1135633774714345646&#45;&gt;/outputs/84 -->\n<g id=\"edge22\" class=\"edge\">\n<title>1135633774714345646&#45;&gt;/outputs/84</title>\n<path fill=\"none\" stroke=\"#000000\" d=\"M1418.0224,-72C1426.5122,-72 1435.4343,-72 1443.9092,-72\"/>\n<polygon fill=\"#000000\" stroke=\"#000000\" points=\"1443.9658,-75.5001 1453.9658,-72 1443.9658,-68.5001 1443.9658,-75.5001\"/>\n</g>\n<!-- 9206484455935898472&#45;&gt;/outputs/87 -->\n<g id=\"edge24\" class=\"edge\">\n<title>9206484455935898472&#45;&gt;/outputs/87</title>\n<path fill=\"none\" stroke=\"#000000\" d=\"M1637.0224,-72C1645.5122,-72 1654.4343,-72 1662.9092,-72\"/>\n<polygon fill=\"#000000\" stroke=\"#000000\" points=\"1662.9658,-75.5001 1672.9658,-72 1662.9658,-68.5001 1662.9658,-75.5001\"/>\n</g>\n<!-- 8535951203174379655&#45;&gt;/outputs/90 -->\n<g id=\"edge26\" class=\"edge\">\n<title>8535951203174379655&#45;&gt;/outputs/90</title>\n<path fill=\"none\" stroke=\"#000000\" d=\"M1856.0224,-72C1864.5122,-72 1873.4343,-72 1881.9092,-72\"/>\n<polygon fill=\"#000000\" stroke=\"#000000\" points=\"1881.9658,-75.5001 1891.9658,-72 1881.9658,-68.5001 1881.9658,-75.5001\"/>\n</g>\n</g>\n</svg>\n"
          },
          "metadata": {},
          "execution_count": 14
        }
      ]
    },
    {
      "cell_type": "code",
      "metadata": {
        "id": "jQ6IwiXTxLFc"
      },
      "source": [
        ""
      ],
      "execution_count": null,
      "outputs": []
    }
  ]
}