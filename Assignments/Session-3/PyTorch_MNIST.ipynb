{
  "nbformat": 4,
  "nbformat_minor": 0,
  "metadata": {
    "colab": {
      "name": "PyTorch_MNIST.ipynb",
      "provenance": [],
      "collapsed_sections": []
    },
    "kernelspec": {
      "name": "python3",
      "display_name": "Python 3"
    },
    "language_info": {
      "name": "python"
    },
    "accelerator": "GPU"
  },
  "cells": [
    {
      "cell_type": "markdown",
      "metadata": {
        "id": "Xh666WN4hkAs"
      },
      "source": [
        "## Importing Libraries\n",
        "\n"
      ]
    },
    {
      "cell_type": "code",
      "metadata": {
        "id": "AqNIku5MdlxO"
      },
      "source": [
        "import random\n",
        "import numpy as np\n",
        "\n",
        "import torch\n",
        "import torchvision\n",
        "from torchvision import transforms\n",
        "from torch.utils.data import Dataset\n",
        "from torch.utils.data import DataLoader\n",
        "from tqdm import tqdm\n",
        "from torch import nn\n",
        "import torch.nn.functional as F\n",
        "import torch.optim as optim\n",
        "\n",
        "import matplotlib.pyplot as plt\n",
        "% matplotlib inline\n",
        "\n",
        "import seaborn as sns"
      ],
      "execution_count": 18,
      "outputs": []
    },
    {
      "cell_type": "markdown",
      "metadata": {
        "id": "VtmkDvdkvzYr"
      },
      "source": [
        "## Setting the seed"
      ]
    },
    {
      "cell_type": "code",
      "metadata": {
        "colab": {
          "base_uri": "https://localhost:8080/"
        },
        "id": "uPfjb_gCv32s",
        "outputId": "7d07ac31-5e7e-46ba-dc81-ce9102a91a04"
      },
      "source": [
        "random.seed(1)\n",
        "torch.manual_seed(1)"
      ],
      "execution_count": 19,
      "outputs": [
        {
          "output_type": "execute_result",
          "data": {
            "text/plain": [
              "<torch._C.Generator at 0x7fe91ef767d0>"
            ]
          },
          "metadata": {},
          "execution_count": 19
        }
      ]
    },
    {
      "cell_type": "markdown",
      "metadata": {
        "id": "JvutjjMHizYA"
      },
      "source": [
        "## Downloading MNIST Train Data and Test Data"
      ]
    },
    {
      "cell_type": "code",
      "metadata": {
        "colab": {
          "base_uri": "https://localhost:8080/"
        },
        "id": "I_ZrEVlqivit",
        "outputId": "a73f277d-a337-4078-9bc0-8b7f41195671"
      },
      "source": [
        "train_transform = transforms.Compose([\n",
        "                        transforms.ToTensor()])\n",
        "test_transform = transforms.Compose([\n",
        "                        transforms.ToTensor()])\n",
        "                  \n",
        "train_data = torchvision.datasets.MNIST(root='./MNISTdata', train=True, download=True, transform=train_transform)\n",
        "test_data = torchvision.datasets.MNIST(root='./MNISTdata', train=False, download=True, transform=test_transform)\n",
        "print(f'Training set of {len(train_data)} examples, and a test set of {len(test_data)} examples: ')"
      ],
      "execution_count": 20,
      "outputs": [
        {
          "output_type": "stream",
          "name": "stdout",
          "text": [
            "Training set of 60000 examples, and a test set of 10000 examples: \n"
          ]
        }
      ]
    },
    {
      "cell_type": "markdown",
      "metadata": {
        "id": "sV9gvRU6rVB2"
      },
      "source": [
        "## Custom Data"
      ]
    },
    {
      "cell_type": "code",
      "metadata": {
        "id": "63MuJvTtooSj"
      },
      "source": [
        "class CustomDataset(Dataset):\n",
        "    \n",
        "    def __init__(self, data):\n",
        "        self.data = data\n",
        "        \n",
        "    def __getitem__(self, index):\n",
        "        if torch.is_tensor(index):\n",
        "            index = index.tolist()\n",
        "\n",
        "        image, label = self.data[index]\n",
        "\n",
        "        image = image.reshape(1,28,28)\n",
        "\n",
        "        # Create one hot encoding for mnist \n",
        "        rand_num = random.randint(0,9)\n",
        "        rand_num_ohe = torch.zeros(11).long()\n",
        "        rand_num_ohe[rand_num] = 1\n",
        "        rand_num_ohe = rand_num_ohe[:-1]\n",
        "\n",
        "        # add actual label and random number\n",
        "        sum = label + rand_num\n",
        "\n",
        "        return image, label, rand_num_ohe, sum\n",
        "\n",
        "    def __len__(self):\n",
        "        return len(self.data)\n",
        "\n",
        "train_data = CustomDataset(train_data)\n",
        "test_data = CustomDataset(test_data)"
      ],
      "execution_count": 21,
      "outputs": []
    },
    {
      "cell_type": "markdown",
      "metadata": {
        "id": "pXu_7v-fqO4B"
      },
      "source": [
        "## Creating Data Loaders"
      ]
    },
    {
      "cell_type": "code",
      "metadata": {
        "id": "kxprblaHqWej"
      },
      "source": [
        "num_workers = 2\n",
        "batch_size = 128\n",
        "train_loader = DataLoader(train_data, batch_size=batch_size, shuffle=True, num_workers=num_workers,\n",
        "                          pin_memory=True, drop_last=True)\n",
        "test_loader = DataLoader(test_data, batch_size=batch_size, shuffle=True, num_workers=num_workers,\n",
        "                          pin_memory=True, drop_last=True)"
      ],
      "execution_count": 22,
      "outputs": []
    },
    {
      "cell_type": "markdown",
      "metadata": {
        "id": "WoBAT9Kxt0pt"
      },
      "source": [
        "## Understanding and Visualising the data"
      ]
    },
    {
      "cell_type": "code",
      "metadata": {
        "colab": {
          "base_uri": "https://localhost:8080/"
        },
        "id": "ZHI7V82uz_kL",
        "outputId": "76e9cb87-b84e-4400-c857-c834f85f4aca"
      },
      "source": [
        "images, labels, randomNumbers, sums = next(iter(train_loader))\n",
        "\n",
        "print('Images: ', images.shape)\n",
        "print('Labels: ', labels.shape)\n",
        "print('Random Numbers: ', randomNumbers.shape)\n",
        "print('Sum: ', sums.shape)\n",
        "\n",
        "print('\\nLabels: ', labels)\n",
        "print('Random Numbers: ', randomNumbers)\n",
        "print('Sum: ', sums)"
      ],
      "execution_count": 23,
      "outputs": [
        {
          "output_type": "stream",
          "name": "stdout",
          "text": [
            "Images:  torch.Size([128, 1, 28, 28])\n",
            "Labels:  torch.Size([128])\n",
            "Random Numbers:  torch.Size([128, 10])\n",
            "Sum:  torch.Size([128])\n",
            "\n",
            "Labels:  tensor([4, 8, 8, 6, 7, 1, 0, 7, 1, 8, 7, 6, 4, 9, 1, 5, 3, 2, 6, 8, 8, 6, 9, 4,\n",
            "        6, 0, 4, 2, 6, 7, 0, 5, 8, 6, 0, 3, 5, 7, 4, 7, 5, 1, 6, 7, 3, 6, 0, 3,\n",
            "        1, 1, 2, 6, 7, 9, 8, 0, 7, 2, 4, 3, 6, 5, 9, 5, 2, 3, 5, 3, 5, 8, 9, 2,\n",
            "        7, 1, 2, 4, 0, 2, 0, 6, 7, 2, 9, 5, 7, 1, 2, 2, 3, 3, 8, 8, 1, 0, 5, 7,\n",
            "        5, 9, 6, 7, 2, 5, 9, 7, 5, 7, 1, 7, 8, 7, 8, 8, 8, 2, 1, 4, 1, 1, 3, 2,\n",
            "        9, 5, 1, 9, 0, 3, 0, 3])\n",
            "Random Numbers:  tensor([[0, 0, 0,  ..., 1, 0, 0],\n",
            "        [0, 0, 0,  ..., 0, 1, 0],\n",
            "        [0, 0, 0,  ..., 0, 0, 0],\n",
            "        ...,\n",
            "        [0, 0, 0,  ..., 0, 0, 0],\n",
            "        [0, 0, 0,  ..., 0, 0, 0],\n",
            "        [0, 0, 0,  ..., 0, 1, 0]])\n",
            "Sum:  tensor([11, 16, 13, 15,  7,  1,  7, 13, 10,  8,  7, 14,  8, 14, 10,  8,  6,  7,\n",
            "        10,  8, 14,  8, 17, 13,  8,  1,  5,  7, 11,  8,  6, 10, 17, 15,  9, 10,\n",
            "         8, 11, 12, 15, 13,  8,  6, 13,  9, 13,  0, 12,  2,  6,  6,  7, 15, 18,\n",
            "        14,  3, 12,  5,  5, 11,  9, 13, 11,  9,  5,  9,  7,  3,  7, 11, 10, 10,\n",
            "         9,  1,  4,  4,  8,  2,  7,  9,  7,  5, 15, 13, 14,  5, 11,  8,  4,  3,\n",
            "        11, 13,  4,  1,  9, 13,  9, 18,  9, 16, 11,  7, 12,  9,  9,  9,  4,  7,\n",
            "        16, 15, 13, 16,  8,  2,  1,  9,  2,  7,  7,  2, 15, 10,  1, 10,  0,  8,\n",
            "         4, 11])\n"
          ]
        }
      ]
    },
    {
      "cell_type": "code",
      "metadata": {
        "colab": {
          "base_uri": "https://localhost:8080/"
        },
        "id": "aqt1MG2p0Chc",
        "outputId": "319091a7-42ac-4bb2-88be-8f1b3f740614"
      },
      "source": [
        "images, labels, randomNumbers, sums = next(iter(test_loader))\n",
        "\n",
        "print('Images: ', images.shape)\n",
        "print('Labels: ', labels.shape)\n",
        "print('Random Numbers: ', randomNumbers.shape)\n",
        "print('Sum: ', sums.shape)\n",
        "\n",
        "print('\\nLabels: ', labels)\n",
        "print('Random Numbers: ', randomNumbers)\n",
        "print('Sum: ', sums)"
      ],
      "execution_count": 24,
      "outputs": [
        {
          "output_type": "stream",
          "name": "stdout",
          "text": [
            "Images:  torch.Size([128, 1, 28, 28])\n",
            "Labels:  torch.Size([128])\n",
            "Random Numbers:  torch.Size([128, 10])\n",
            "Sum:  torch.Size([128])\n",
            "\n",
            "Labels:  tensor([8, 2, 3, 3, 4, 3, 4, 5, 3, 9, 4, 9, 1, 8, 6, 4, 0, 7, 8, 6, 9, 4, 8, 0,\n",
            "        2, 0, 9, 4, 7, 1, 6, 9, 5, 6, 0, 5, 2, 4, 3, 6, 3, 3, 4, 3, 0, 0, 1, 1,\n",
            "        7, 8, 1, 4, 9, 3, 7, 5, 7, 2, 9, 6, 5, 3, 4, 8, 3, 1, 9, 8, 2, 5, 5, 8,\n",
            "        1, 4, 0, 1, 2, 7, 1, 4, 9, 1, 8, 5, 2, 5, 1, 3, 3, 6, 8, 8, 8, 5, 0, 1,\n",
            "        5, 7, 1, 4, 0, 7, 8, 0, 0, 9, 6, 4, 2, 2, 6, 8, 6, 4, 0, 2, 8, 7, 7, 8,\n",
            "        9, 0, 5, 3, 1, 5, 7, 1])\n",
            "Random Numbers:  tensor([[0, 0, 0,  ..., 0, 1, 0],\n",
            "        [0, 0, 0,  ..., 0, 0, 1],\n",
            "        [1, 0, 0,  ..., 0, 0, 0],\n",
            "        ...,\n",
            "        [0, 1, 0,  ..., 0, 0, 0],\n",
            "        [0, 0, 0,  ..., 0, 0, 0],\n",
            "        [0, 0, 0,  ..., 0, 0, 0]])\n",
            "Sum:  tensor([16, 11,  3,  4, 11,  7,  9, 10,  4, 11, 10, 16,  4,  8, 15,  6,  2, 10,\n",
            "         8, 12, 10,  8, 11,  7, 11,  6, 13,  4, 14,  5, 11, 15, 13,  6,  0,  6,\n",
            "         6, 10,  8, 10, 12, 10,  4,  4,  4,  5,  1,  5, 12, 10,  2,  7, 13,  9,\n",
            "        14, 13, 13,  9, 15, 11, 12,  5,  8, 13,  9,  5, 14, 14,  9,  6,  5, 11,\n",
            "         6,  9,  8,  5, 10, 12,  5,  5, 16,  6, 14, 11, 11, 12,  7,  9,  8, 13,\n",
            "        13, 16, 13, 12,  7,  5, 13,  7,  6,  7,  9,  7, 13,  6,  4, 16,  7, 13,\n",
            "         9,  7, 12,  9, 15,  7,  8,  3, 11, 13,  7, 17, 12,  6, 12,  9,  9,  6,\n",
            "        12,  6])\n"
          ]
        }
      ]
    },
    {
      "cell_type": "code",
      "metadata": {
        "colab": {
          "base_uri": "https://localhost:8080/",
          "height": 501
        },
        "id": "YNvPn4btJe3w",
        "outputId": "f59a3304-f173-428e-a4fe-a02721b2235c"
      },
      "source": [
        "fig = plt.figure()\n",
        "for i in range(6):\n",
        "  plt.subplot(2,3,i+1)\n",
        "  plt.tight_layout()\n",
        "  plt.imshow(images[i][0], cmap='gray', interpolation='none')\n",
        "  plt.xticks([])\n",
        "  plt.yticks([])\n",
        "fig"
      ],
      "execution_count": 25,
      "outputs": [
        {
          "output_type": "execute_result",
          "data": {
            "image/png": "[encoded data removed]",
            "text/plain": [
              "<Figure size 432x288 with 6 Axes>"
            ]
          },
          "metadata": {},
          "execution_count": 25
        },
        {
          "output_type": "display_data",
          "data": {
            "image/png": "[encoded data removed]",
            "text/plain": [
              "<Figure size 432x288 with 6 Axes>"
            ]
          },
          "metadata": {}
        }
      ]
    },
    {
      "cell_type": "markdown",
      "metadata": {
        "id": "yoyon-GWyHDK"
      },
      "source": [
        "## Defining Neural Network"
      ]
    },
    {
      "cell_type": "code",
      "metadata": {
        "id": "SKSsmp1W2Z_-"
      },
      "source": [
        "class NeuralNetwork(nn.Module):\n",
        "\n",
        "    def __init__(self):\n",
        "        super(NeuralNetwork, self).__init__()\n",
        "        \n",
        "        self.conv1 = nn.Conv2d(1, 32, 3, padding=1)       #Input: 28*28*1  Output:26 * 26 * 32 GRF:3 * 3 \n",
        "        self.conv2 = nn.Conv2d(32, 64, 3, padding=1)      #Input: 26*26*32 Output:24 * 24 * 64 GRF:5 * 5\n",
        "        self.pool1 = nn.MaxPool2d(2, 2)                   #Input: 24*24*64 Output:12 * 12 * 64 GRF:10*10\n",
        "        self.conv3 = nn.Conv2d(64, 128, 3, padding=1)     #Input: 28*28*1  Output:26 * 26 * 32 GRF:12*12\n",
        "        self.conv4 = nn.Conv2d(128, 256, 3, padding=1)    #Input: 28*28*1  Output:26 * 26 * 32 GRF:14*14\n",
        "        self.pool2 = nn.MaxPool2d(2, 2)                   #Input: 28*28*1  Output:26 * 26 * 32 GRF:28*28\n",
        "        self.conv5 = nn.Conv2d(256, 512, 3)               #Input: 28*28*1  Output:26 * 26 * 32 GRF:30*30\n",
        "        self.conv6 = nn.Conv2d(512, 1024, 3)              #Input: 28*28*1  Output:26 * 26 * 32 GRF:32*32\n",
        "        self.conv7 = nn.Conv2d(1024, 10, 3)               #Input: 28*28*1  Output:26 * 26 * 32 GRF:34*34\n",
        "        \n",
        "        # second input one-hot encoded random number (1x10) will be concatenated\n",
        "        self.fc1 = nn.Linear(20, 128)\n",
        "        self.fc2 = nn.Linear(128, 19)\n",
        "\n",
        "    def forward(self, x, rand_num):\n",
        "        \"\"\"\n",
        "        Model returns two outputs:\n",
        "        Output1 : \"number\" represented by the MNIST image \n",
        "        Output2 : the \"sum\" of this number with the random number that was generated and sent as the input to the network\n",
        "        \"\"\"\n",
        "        x = self.pool1(F.relu(self.conv2(F.relu(self.conv1(x)))))\n",
        "        x = self.pool2(F.relu(self.conv4(F.relu(self.conv3(x)))))\n",
        "        x = F.relu(self.conv6(F.relu(self.conv5(x))))\n",
        "        x = self.conv7(x)\n",
        "        \n",
        "        x = x.view(-1, 10)\n",
        "\n",
        "        # concatenate second input \n",
        "        x_rand_num_sum = torch.cat((x, rand_num), dim=1)\n",
        "\n",
        "        # Further train the network on Dense Layer\n",
        "        x_rand_num_sum = F.relu(self.fc1(x_rand_num_sum))\n",
        "        x_rand_num_sum = self.fc2(x_rand_num_sum)\n",
        "\n",
        "        return F.log_softmax(x, dim=1), F.log_softmax(x_rand_num_sum, dim=1)"
      ],
      "execution_count": 26,
      "outputs": []
    },
    {
      "cell_type": "markdown",
      "metadata": {
        "id": "XzY8PsbIFRYu"
      },
      "source": [
        "## Train Function"
      ]
    },
    {
      "cell_type": "code",
      "metadata": {
        "id": "NAeYZk7rDi4W"
      },
      "source": [
        "def train(model, device, train_loader, optimizer, epoch):\n",
        "    # set the model in training model\n",
        "    model.train()\n",
        "\n",
        "    epoch_loss = 0\n",
        "\n",
        "    pbar = tqdm(train_loader)\n",
        "    # run for all the data in train_loader\n",
        "    for batch_idx, (data, target, random_number, sum) in enumerate(pbar):\n",
        "\n",
        "        # fetch the data and the target values\n",
        "        target = target.type(torch.LongTensor)\n",
        "        sum = sum.type(torch.LongTensor)\n",
        "\n",
        "        # move the data to device\n",
        "        data, target, sum = data.to(device), target.to(device), sum.to(device)\n",
        "\n",
        "        # zero out the gradients\n",
        "        optimizer.zero_grad()\n",
        "\n",
        "        # forward pass the model with the data\n",
        "        output1, output2 = model(data, random_number.to(device))\n",
        "\n",
        "        # compute the loss occured\n",
        "        loss1 = F.nll_loss(output1, target)\n",
        "        loss2 = F.nll_loss(output2, sum)\n",
        "        loss = (loss1 + loss2)/2\n",
        "\n",
        "        epoch_loss += loss.item()\n",
        "\n",
        "        # compute the backward gradients\n",
        "        loss.backward()\n",
        "\n",
        "        # update the optimizer params\n",
        "        optimizer.step()\n",
        "    \n",
        "        pbar.set_description(desc= f'loss={loss.item()} batch_id={batch_idx}')\n",
        "    \n",
        "    train_loss = epoch_loss / len(train_loader)\n",
        "\n",
        "    return train_loss"
      ],
      "execution_count": 27,
      "outputs": []
    },
    {
      "cell_type": "markdown",
      "metadata": {
        "id": "uTkH1rtQGGD3"
      },
      "source": [
        "## Test Function"
      ]
    },
    {
      "cell_type": "code",
      "metadata": {
        "id": "GCVrePRnF_e0"
      },
      "source": [
        "def test(model, device, test_loader):\n",
        "    \n",
        "    # set the model in evaluation model\n",
        "    model.eval()\n",
        "\n",
        "    # set the loss to zero\n",
        "    test_loss = 0\n",
        "    \n",
        "    # the number of correct classifications\n",
        "    correct1 = 0\n",
        "    correct2 = 0\n",
        "\n",
        "    # turn off gradients during the testing\n",
        "    with torch.no_grad():\n",
        "        for (data, target, random_number, sum) in test_loader:\n",
        "\n",
        "            # move the data to device\n",
        "            target = target.type(torch.LongTensor)\n",
        "            sum = sum.type(torch.LongTensor)\n",
        "            data, target,sum = data.to(device), target.to(device), sum.to(device)\n",
        "\n",
        "            # forward pass the model and get the output\n",
        "            output1,output2 = model(data,random_number.to(device))\n",
        "\n",
        "            # accumulate the loss from both the network outputs\n",
        "            test_loss += (F.nll_loss(output1, target, reduction='sum').item() + F.nll_loss(output2, sum, reduction='sum').item())/2\n",
        "\n",
        "            # get the index of max log-probability\n",
        "            pred1 = output1.argmax(dim=1, keepdim=True)\n",
        "            pred2 = output2.argmax(dim=1, keepdim=True)\n",
        "\n",
        "            # increment the correct prediction count if pred is correct\n",
        "            correct1 += pred1.eq(target.view_as(pred1)).sum().item()\n",
        "            correct2 += pred2.eq(sum.view_as(pred2)).sum().item()\n",
        "\n",
        "\n",
        "    # test loss divided by the total number of items in test dataset\n",
        "    test_loss /= len(test_loader.dataset)\n",
        "    print(f'Test set: Average loss: {test_loss:.3f}', \n",
        "          f'MNist Accuracy: {100. * correct1/len(test_loader.dataset)}',\n",
        "          f'Sum_Accuracy: {100. * correct2/len(test_loader.dataset)}')\n",
        "    return test_loss"
      ],
      "execution_count": 28,
      "outputs": []
    },
    {
      "cell_type": "markdown",
      "metadata": {
        "id": "OfxsPoDtnFgN"
      },
      "source": [
        "## Testing for GPU\n"
      ]
    },
    {
      "cell_type": "code",
      "metadata": {
        "colab": {
          "base_uri": "https://localhost:8080/"
        },
        "id": "egKBRF5HlcnG",
        "outputId": "fc7366fa-f5c6-49c8-d955-166e8df55471"
      },
      "source": [
        "device = \"cuda\" if torch.cuda.is_available() else \"cpu\"\n",
        "print(\"Using {} device\".format(device))"
      ],
      "execution_count": 29,
      "outputs": [
        {
          "output_type": "stream",
          "name": "stdout",
          "text": [
            "Using cuda device\n"
          ]
        }
      ]
    },
    {
      "cell_type": "markdown",
      "metadata": {
        "id": "s_M7vRy2DYlf"
      },
      "source": [
        "## Move the model to the specified device"
      ]
    },
    {
      "cell_type": "code",
      "metadata": {
        "colab": {
          "base_uri": "https://localhost:8080/"
        },
        "id": "VyU6ygGFCqUi",
        "outputId": "34c896c8-bf97-411b-9d1b-58680efc3022"
      },
      "source": [
        "model = NeuralNetwork().to(device)\n",
        "print(model)"
      ],
      "execution_count": 30,
      "outputs": [
        {
          "output_type": "stream",
          "name": "stdout",
          "text": [
            "NeuralNetwork(\n",
            "  (conv1): Conv2d(1, 32, kernel_size=(3, 3), stride=(1, 1), padding=(1, 1))\n",
            "  (conv2): Conv2d(32, 64, kernel_size=(3, 3), stride=(1, 1), padding=(1, 1))\n",
            "  (pool1): MaxPool2d(kernel_size=2, stride=2, padding=0, dilation=1, ceil_mode=False)\n",
            "  (conv3): Conv2d(64, 128, kernel_size=(3, 3), stride=(1, 1), padding=(1, 1))\n",
            "  (conv4): Conv2d(128, 256, kernel_size=(3, 3), stride=(1, 1), padding=(1, 1))\n",
            "  (pool2): MaxPool2d(kernel_size=2, stride=2, padding=0, dilation=1, ceil_mode=False)\n",
            "  (conv5): Conv2d(256, 512, kernel_size=(3, 3), stride=(1, 1))\n",
            "  (conv6): Conv2d(512, 1024, kernel_size=(3, 3), stride=(1, 1))\n",
            "  (conv7): Conv2d(1024, 10, kernel_size=(3, 3), stride=(1, 1))\n",
            "  (fc1): Linear(in_features=20, out_features=128, bias=True)\n",
            "  (fc2): Linear(in_features=128, out_features=19, bias=True)\n",
            ")\n"
          ]
        }
      ]
    },
    {
      "cell_type": "markdown",
      "metadata": {
        "id": "Hxc2k6gIl3Z9"
      },
      "source": [
        "## Checking the total number of parameters"
      ]
    },
    {
      "cell_type": "code",
      "metadata": {
        "colab": {
          "base_uri": "https://localhost:8080/"
        },
        "id": "5zv-MMQOndZm",
        "outputId": "21ada287-1459-4d12-a522-df321026c89c"
      },
      "source": [
        "total_trainable_params = sum(p.numel() for p in model.parameters() if p.requires_grad)\n",
        "\n",
        "print(f'Total trainable parameters {total_trainable_params}')"
      ],
      "execution_count": 31,
      "outputs": [
        {
          "output_type": "stream",
          "name": "stdout",
          "text": [
            "Total trainable parameters 6384925\n"
          ]
        }
      ]
    },
    {
      "cell_type": "markdown",
      "metadata": {
        "id": "zzimsWrLlxZL"
      },
      "source": [
        "## Training the model"
      ]
    },
    {
      "cell_type": "code",
      "metadata": {
        "colab": {
          "base_uri": "https://localhost:8080/"
        },
        "id": "fSwveE9SGjkE",
        "outputId": "caf4cd4f-be78-475d-955a-d1c223c0616c"
      },
      "source": [
        "# use Stochastic Gradient Descent as the optimizer\n",
        "optimizer = optim.SGD(model.parameters(), lr=0.01, momentum=0.7)\n",
        "\n",
        "# set the number of epochs to train for\n",
        "num_epoch = 20\n",
        "\n",
        "train_loss_values = []\n",
        "valid_loss_values = []\n",
        "\n",
        "# run it for epoch number of times\n",
        "for epoch in range(1, num_epoch+1):\n",
        "    print('\\nEpoch {} : '.format(epoch))\n",
        "    # train the model\n",
        "    train_loss = train(model, device, train_loader, optimizer, epoch)\n",
        "    # test the model\n",
        "    test_loss = test(model, device, test_loader)\n",
        "\n",
        "    train_loss_values.append(train_loss)\n",
        "    valid_loss_values.append(test_loss)"
      ],
      "execution_count": 32,
      "outputs": [
        {
          "output_type": "stream",
          "name": "stdout",
          "text": [
            "\n",
            "Epoch 1 : \n"
          ]
        },
        {
          "output_type": "stream",
          "name": "stderr",
          "text": [
            "loss=2.4098801612854004 batch_id=467: 100%|██████████| 468/468 [00:39<00:00, 11.75it/s]\n"
          ]
        },
        {
          "output_type": "stream",
          "name": "stdout",
          "text": [
            "Test set: Average loss: 2.394 MNist Accuracy: 56.34 Sum_Accuracy: 9.94\n",
            "\n",
            "Epoch 2 : \n"
          ]
        },
        {
          "output_type": "stream",
          "name": "stderr",
          "text": [
            "loss=1.2987701892852783 batch_id=467: 100%|██████████| 468/468 [00:39<00:00, 11.82it/s]\n"
          ]
        },
        {
          "output_type": "stream",
          "name": "stdout",
          "text": [
            "Test set: Average loss: 1.296 MNist Accuracy: 94.29 Sum_Accuracy: 14.32\n",
            "\n",
            "Epoch 3 : \n"
          ]
        },
        {
          "output_type": "stream",
          "name": "stderr",
          "text": [
            "loss=1.185538411140442 batch_id=467: 100%|██████████| 468/468 [00:39<00:00, 11.78it/s]\n"
          ]
        },
        {
          "output_type": "stream",
          "name": "stdout",
          "text": [
            "Test set: Average loss: 1.207 MNist Accuracy: 96.57 Sum_Accuracy: 18.48\n",
            "\n",
            "Epoch 4 : \n"
          ]
        },
        {
          "output_type": "stream",
          "name": "stderr",
          "text": [
            "loss=1.1331839561462402 batch_id=467: 100%|██████████| 468/468 [00:39<00:00, 11.78it/s]\n"
          ]
        },
        {
          "output_type": "stream",
          "name": "stdout",
          "text": [
            "Test set: Average loss: 1.132 MNist Accuracy: 97.5 Sum_Accuracy: 26.86\n",
            "\n",
            "Epoch 5 : \n"
          ]
        },
        {
          "output_type": "stream",
          "name": "stderr",
          "text": [
            "loss=1.0485321283340454 batch_id=467: 100%|██████████| 468/468 [00:39<00:00, 11.84it/s]\n"
          ]
        },
        {
          "output_type": "stream",
          "name": "stdout",
          "text": [
            "Test set: Average loss: 1.060 MNist Accuracy: 98.04 Sum_Accuracy: 36.98\n",
            "\n",
            "Epoch 6 : \n"
          ]
        },
        {
          "output_type": "stream",
          "name": "stderr",
          "text": [
            "loss=0.9563050270080566 batch_id=467: 100%|██████████| 468/468 [00:39<00:00, 11.82it/s]\n"
          ]
        },
        {
          "output_type": "stream",
          "name": "stdout",
          "text": [
            "Test set: Average loss: 0.990 MNist Accuracy: 98.19 Sum_Accuracy: 48.15\n",
            "\n",
            "Epoch 7 : \n"
          ]
        },
        {
          "output_type": "stream",
          "name": "stderr",
          "text": [
            "loss=0.9026076793670654 batch_id=467: 100%|██████████| 468/468 [00:39<00:00, 11.83it/s]\n"
          ]
        },
        {
          "output_type": "stream",
          "name": "stdout",
          "text": [
            "Test set: Average loss: 0.907 MNist Accuracy: 98.24 Sum_Accuracy: 60.81\n",
            "\n",
            "Epoch 8 : \n"
          ]
        },
        {
          "output_type": "stream",
          "name": "stderr",
          "text": [
            "loss=0.8417448401451111 batch_id=467: 100%|██████████| 468/468 [00:39<00:00, 11.84it/s]\n"
          ]
        },
        {
          "output_type": "stream",
          "name": "stdout",
          "text": [
            "Test set: Average loss: 0.817 MNist Accuracy: 98.5 Sum_Accuracy: 71.26\n",
            "\n",
            "Epoch 9 : \n"
          ]
        },
        {
          "output_type": "stream",
          "name": "stderr",
          "text": [
            "loss=0.7439426183700562 batch_id=467: 100%|██████████| 468/468 [00:39<00:00, 11.81it/s]\n"
          ]
        },
        {
          "output_type": "stream",
          "name": "stdout",
          "text": [
            "Test set: Average loss: 0.721 MNist Accuracy: 98.69 Sum_Accuracy: 78.29\n",
            "\n",
            "Epoch 10 : \n"
          ]
        },
        {
          "output_type": "stream",
          "name": "stderr",
          "text": [
            "loss=0.6082207560539246 batch_id=467: 100%|██████████| 468/468 [00:39<00:00, 11.81it/s]\n"
          ]
        },
        {
          "output_type": "stream",
          "name": "stdout",
          "text": [
            "Test set: Average loss: 0.630 MNist Accuracy: 98.71 Sum_Accuracy: 85.94\n",
            "\n",
            "Epoch 11 : \n"
          ]
        },
        {
          "output_type": "stream",
          "name": "stderr",
          "text": [
            "loss=0.5498422384262085 batch_id=467: 100%|██████████| 468/468 [00:39<00:00, 11.78it/s]\n"
          ]
        },
        {
          "output_type": "stream",
          "name": "stdout",
          "text": [
            "Test set: Average loss: 0.544 MNist Accuracy: 98.74 Sum_Accuracy: 90.52\n",
            "\n",
            "Epoch 12 : \n"
          ]
        },
        {
          "output_type": "stream",
          "name": "stderr",
          "text": [
            "loss=0.4379905164241791 batch_id=467: 100%|██████████| 468/468 [00:39<00:00, 11.82it/s]\n"
          ]
        },
        {
          "output_type": "stream",
          "name": "stdout",
          "text": [
            "Test set: Average loss: 0.457 MNist Accuracy: 98.84 Sum_Accuracy: 94.8\n",
            "\n",
            "Epoch 13 : \n"
          ]
        },
        {
          "output_type": "stream",
          "name": "stderr",
          "text": [
            "loss=0.32054609060287476 batch_id=467: 100%|██████████| 468/468 [00:39<00:00, 11.82it/s]\n"
          ]
        },
        {
          "output_type": "stream",
          "name": "stdout",
          "text": [
            "Test set: Average loss: 0.375 MNist Accuracy: 98.87 Sum_Accuracy: 96.65\n",
            "\n",
            "Epoch 14 : \n"
          ]
        },
        {
          "output_type": "stream",
          "name": "stderr",
          "text": [
            "loss=0.3123644292354584 batch_id=467: 100%|██████████| 468/468 [00:39<00:00, 11.80it/s]\n"
          ]
        },
        {
          "output_type": "stream",
          "name": "stdout",
          "text": [
            "Test set: Average loss: 0.306 MNist Accuracy: 98.92 Sum_Accuracy: 97.72\n",
            "\n",
            "Epoch 15 : \n"
          ]
        },
        {
          "output_type": "stream",
          "name": "stderr",
          "text": [
            "loss=0.23556731641292572 batch_id=467: 100%|██████████| 468/468 [00:39<00:00, 11.82it/s]\n"
          ]
        },
        {
          "output_type": "stream",
          "name": "stdout",
          "text": [
            "Test set: Average loss: 0.250 MNist Accuracy: 98.87 Sum_Accuracy: 98.01\n",
            "\n",
            "Epoch 16 : \n"
          ]
        },
        {
          "output_type": "stream",
          "name": "stderr",
          "text": [
            "loss=0.19917763769626617 batch_id=467: 100%|██████████| 468/468 [00:39<00:00, 11.83it/s]\n"
          ]
        },
        {
          "output_type": "stream",
          "name": "stdout",
          "text": [
            "Test set: Average loss: 0.202 MNist Accuracy: 98.95 Sum_Accuracy: 98.59\n",
            "\n",
            "Epoch 17 : \n"
          ]
        },
        {
          "output_type": "stream",
          "name": "stderr",
          "text": [
            "loss=0.17915618419647217 batch_id=467: 100%|██████████| 468/468 [00:39<00:00, 11.80it/s]\n"
          ]
        },
        {
          "output_type": "stream",
          "name": "stdout",
          "text": [
            "Test set: Average loss: 0.170 MNist Accuracy: 99.0 Sum_Accuracy: 98.62\n",
            "\n",
            "Epoch 18 : \n"
          ]
        },
        {
          "output_type": "stream",
          "name": "stderr",
          "text": [
            "loss=0.11908458918333054 batch_id=467: 100%|██████████| 468/468 [00:39<00:00, 11.82it/s]\n"
          ]
        },
        {
          "output_type": "stream",
          "name": "stdout",
          "text": [
            "Test set: Average loss: 0.142 MNist Accuracy: 98.99 Sum_Accuracy: 98.72\n",
            "\n",
            "Epoch 19 : \n"
          ]
        },
        {
          "output_type": "stream",
          "name": "stderr",
          "text": [
            "loss=0.11350075155496597 batch_id=467: 100%|██████████| 468/468 [00:39<00:00, 11.83it/s]\n"
          ]
        },
        {
          "output_type": "stream",
          "name": "stdout",
          "text": [
            "Test set: Average loss: 0.129 MNist Accuracy: 98.9 Sum_Accuracy: 98.54\n",
            "\n",
            "Epoch 20 : \n"
          ]
        },
        {
          "output_type": "stream",
          "name": "stderr",
          "text": [
            "loss=0.1045355424284935 batch_id=467: 100%|██████████| 468/468 [00:39<00:00, 11.79it/s]\n"
          ]
        },
        {
          "output_type": "stream",
          "name": "stdout",
          "text": [
            "Test set: Average loss: 0.110 MNist Accuracy: 98.96 Sum_Accuracy: 98.83\n"
          ]
        }
      ]
    },
    {
      "cell_type": "markdown",
      "metadata": {
        "id": "osN3oKa3rcyc"
      },
      "source": [
        "## Plotting the loss function\n"
      ]
    },
    {
      "cell_type": "code",
      "metadata": {
        "colab": {
          "base_uri": "https://localhost:8080/",
          "height": 427
        },
        "id": "0pyRYaTPkXKZ",
        "outputId": "ccbd5ac7-cb50-45cb-cbae-b26d04126368"
      },
      "source": [
        "# Use plot styling from seaborn.\n",
        "sns.set(style='darkgrid')\n",
        "\n",
        "# Increase the plot size and font size.\n",
        "sns.set(font_scale=1.5)\n",
        "plt.rcParams[\"figure.figsize\"] = (12,6)\n",
        "\n",
        "# Plot the learning curve.\n",
        "plt.plot(np.array(train_loss_values), 'b-o', label=\"Training\")\n",
        "plt.plot(np.array(valid_loss_values), 'g-o', label=\"Test\")\n",
        "\n",
        "# Label the plot.\n",
        "plt.title(\"Training & Test Loss\")\n",
        "plt.xlabel(\"Epoch\")\n",
        "plt.ylabel(\"Loss\")\n",
        "plt.legend()\n",
        "#plt.xticks([1, 2, 3, 4])\n",
        "\n",
        "plt.show()"
      ],
      "execution_count": 33,
      "outputs": [
        {
          "output_type": "display_data",
          "data": {
            "image/png": "[encoded data removed]",
            "text/plain": [
              "<Figure size 864x432 with 1 Axes>"
            ]
          },
          "metadata": {}
        }
      ]
    },
    {
      "cell_type": "markdown",
      "metadata": {
        "id": "r7gaQA0TsBHm"
      },
      "source": [
        "## Inference"
      ]
    },
    {
      "cell_type": "code",
      "metadata": {
        "id": "xLqdbeCor5JS"
      },
      "source": [
        "def prediction(image, rand_num):\n",
        "\n",
        "    rand_num_ohe = torch.zeros(11).long()\n",
        "    rand_num_ohe[rand_num] = 1\n",
        "    rand_num_ohe = rand_num_ohe[:-1]\n",
        "\n",
        "    output_1, output_2 = model(image.unsqueeze(dim=1).to(device), rand_num_ohe.reshape(-1,10).to(device))\n",
        "\n",
        "    mnist_pred = output_1.argmax(dim=1, keepdim=True)\n",
        "    sum_pred = output_2.argmax(dim=1, keepdim=True)\n",
        "\n",
        "    fig = plt.figure(figsize=(5, 5))\n",
        "    ax = fig.add_subplot(3, 3, 1)\n",
        "    ax.axis('off')\n",
        "    ax.imshow(image.cpu().numpy().squeeze())\n",
        "    ax.set_title(f'MNIST Image (input1): \\n')\n",
        "    ax.text(15, 45, f'Random Number Generated (input2): {rand_num}', horizontalalignment='center')            \n",
        "    ax.text(15, 60, f'MNIST Prediction (output1): {mnist_pred.item()}', horizontalalignment='center')\n",
        "    ax.text(15, 75, f'Sum (output2): {rand_num} + {mnist_pred.item()} = {sum_pred.item()}', horizontalalignment='center')\n",
        "    \n",
        "    return mnist_pred, sum_pred"
      ],
      "execution_count": 34,
      "outputs": []
    },
    {
      "cell_type": "code",
      "metadata": {
        "id": "Q5ESipn6sFED",
        "colab": {
          "base_uri": "https://localhost:8080/",
          "height": 291
        },
        "outputId": "e65a7602-1091-48a8-9cf1-90b3fa5798e6"
      },
      "source": [
        "image, _, _, _ = test_data[random.randint(1,10000)]\n",
        "rand_num = random.randint(0,9)\n",
        "mnist_pred, sum_pred = prediction(image, rand_num)"
      ],
      "execution_count": 35,
      "outputs": [
        {
          "output_type": "display_data",
          "data": {
            "image/png": "[encoded data removed]",
            "text/plain": [
              "<Figure size 360x360 with 1 Axes>"
            ]
          },
          "metadata": {}
        }
      ]
    },
    {
      "cell_type": "code",
      "metadata": {
        "colab": {
          "base_uri": "https://localhost:8080/",
          "height": 839
        },
        "id": "8HVI_Ab4zjfH",
        "outputId": "98aa9d3c-c6ad-4fdd-b142-cd1945697b0c"
      },
      "source": [
        "for i in range(3):\n",
        "    image, _, _, _ = test_data[random.randint(1,10000)]\n",
        "    rand_num = random.randint(0,9)\n",
        "    mnist_pred, sum_pred = prediction(image, rand_num)"
      ],
      "execution_count": 40,
      "outputs": [
        {
          "output_type": "display_data",
          "data": {
            "image/png": "[encoded data removed]",
            "text/plain": [
              "<Figure size 360x360 with 1 Axes>"
            ]
          },
          "metadata": {}
        },
        {
          "output_type": "display_data",
          "data": {
            "image/png": "[encoded data removed]",
            "text/plain": [
              "<Figure size 360x360 with 1 Axes>"
            ]
          },
          "metadata": {}
        },
        {
          "output_type": "display_data",
          "data": {
            "image/png": "[encoded data removed]",
            "text/plain": [
              "<Figure size 360x360 with 1 Axes>"
            ]
          },
          "metadata": {}
        }
      ]
    },
    {
      "cell_type": "code",
      "metadata": {
        "id": "OnzjLE6qzodX"
      },
      "source": [
        ""
      ],
      "execution_count": null,
      "outputs": []
    }
  ]
}